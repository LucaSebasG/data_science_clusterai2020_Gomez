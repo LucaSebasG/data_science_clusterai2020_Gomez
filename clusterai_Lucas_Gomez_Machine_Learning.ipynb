{
 "cells": [
  {
   "cell_type": "markdown",
   "metadata": {
    "id": "sMDWhpxUh9g1"
   },
   "source": [
    "# ClusterAI 2020\n",
    "# Ciencia de Datos - Ingenieria Industrial UTN BA\n",
    "# Curso I5521\n",
    "# Machine Learning\n",
    "\n",
    "**Alumnos:**\n",
    "###          Gomez Lucas\n",
    "###          Sabini Manuel\n",
    "###          Tudanca Valentin \n",
    "\n",
    "**Mentor:**\n",
    "###          Lautaro Rshaid"
   ]
  },
  {
   "cell_type": "markdown",
   "metadata": {
    "id": "6PXoD2WEjOeE"
   },
   "source": [
    "El Dataset sobre el cual se realiza el siguiente Trabajo fue obtenido desde el portal de datos abiertos de la Nacion Argentina.\n",
    "\n",
    "El mismo fue confeccionado en el Año 2018 por el Ministerio de Salud. Dirección de Estadística e Información en Salud (DEIS)\n",
    "\n",
    "Nacidos vivos registrados año 2018\n",
    "Dataset: https://datos.gob.ar/dataset/salud-nacidos-vivos-registrados-por-jurisdiccion-residencia-madre---republica-argentina/archivo/salud_e1ae5157-2a94-4e2a-b147-43da647facc1"
   ]
  },
  {
   "cell_type": "markdown",
   "metadata": {
    "id": "W8BvjGUbh9g2"
   },
   "source": [
    "### Librerias"
   ]
  },
  {
   "cell_type": "code",
   "execution_count": 1,
   "metadata": {
    "colab": {
     "base_uri": "https://localhost:8080/",
     "height": 73,
     "resources": {
      "http://localhost:8080/nbextensions/google.colab/files.js": {
       "data": "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",
       "headers": [
        [
         "content-type",
         "application/javascript"
        ]
       ],
       "ok": true,
       "status": 200,
       "status_text": ""
      }
     }
    },
    "executionInfo": {
     "elapsed": 143481,
     "status": "ok",
     "timestamp": 1605394377048,
     "user": {
      "displayName": "Manuel Sabini",
      "photoUrl": "https://lh3.googleusercontent.com/a-/AOh14GiCw_XqwwTZm4okpuiBiYEiPvsHfM8Viev-QsqNiw=s64",
      "userId": "05853185241662898714"
     },
     "user_tz": 180
    },
    "id": "zhKJEWuCh9g3",
    "outputId": "a8ebecd0-d135-4171-f6df-b429778a7138"
   },
   "outputs": [],
   "source": [
    "#Importar paquetes de herramientas:\n",
    "\n",
    "#Datos\n",
    "import pandas as pd\n",
    "import numpy as np\n",
    "#Graficos \n",
    "import matplotlib.pyplot as plt\n",
    "import seaborn as sns\n",
    "\n",
    "import warnings\n",
    "warnings.filterwarnings('ignore')"
   ]
  },
  {
   "cell_type": "markdown",
   "metadata": {
    "id": "rb7rKDeJh9g9"
   },
   "source": [
    "### Dataset"
   ]
  },
  {
   "cell_type": "code",
   "execution_count": 2,
   "metadata": {
    "colab": {
     "base_uri": "https://localhost:8080/"
    },
    "executionInfo": {
     "elapsed": 143469,
     "status": "ok",
     "timestamp": 1605394377070,
     "user": {
      "displayName": "Manuel Sabini",
      "photoUrl": "https://lh3.googleusercontent.com/a-/AOh14GiCw_XqwwTZm4okpuiBiYEiPvsHfM8Viev-QsqNiw=s64",
      "userId": "05853185241662898714"
     },
     "user_tz": 180
    },
    "id": "brZIp4U8h9g-",
    "outputId": "3a35e181-c4c2-4492-a8fe-405754d25074"
   },
   "outputs": [
    {
     "name": "stdout",
     "output_type": "stream",
     "text": [
      " Volume in drive C is OS\n",
      " Volume Serial Number is 1001-875D\n",
      "\n",
      " Directory of C:\\Users\\60065215\\Desktop\\Facultad\\Ciencia de Datos\\TP Grupal\\TP\\Entrega\n",
      "\n",
      "11/18/2020  07:22 PM    <DIR>          .\n",
      "11/18/2020  07:22 PM    <DIR>          ..\n",
      "11/18/2020  03:59 PM    <DIR>          .ipynb_checkpoints\n",
      "11/18/2020  03:52 PM           557,131 clusterai_Nombre_apellido_EDA.ipynb\n",
      "11/18/2020  09:09 AM           221,534 clusterai_Nombre_apellido_Machine_Learning v1.ipynb\n",
      "11/18/2020  07:22 PM           150,044 clusterai_Nombre_apellido_Machine_Learningv2.ipynb\n",
      "11/17/2020  11:55 PM           587,451 clusterai_TP_eda+SVM v5.ipynb\n",
      "11/16/2020  12:07 AM        15,828,888 export_nacidos.csv\n",
      "11/18/2020  12:06 PM        51,183,926 export_nacidos_dummies.csv\n",
      "11/17/2020  05:03 PM         3,464,459 nacidos-vivos-registrados-2018_deis.csv\n",
      "               7 File(s)     71,993,433 bytes\n",
      "               3 Dir(s)  358,488,268,800 bytes free\n"
     ]
    }
   ],
   "source": [
    "ls"
   ]
  },
  {
   "cell_type": "code",
   "execution_count": 3,
   "metadata": {
    "executionInfo": {
     "elapsed": 143459,
     "status": "ok",
     "timestamp": 1605394377075,
     "user": {
      "displayName": "Manuel Sabini",
      "photoUrl": "https://lh3.googleusercontent.com/a-/AOh14GiCw_XqwwTZm4okpuiBiYEiPvsHfM8Viev-QsqNiw=s64",
      "userId": "05853185241662898714"
     },
     "user_tz": 180
    },
    "id": "J26BEqd9h9hE"
   },
   "outputs": [],
   "source": [
    "#Importamos el Dataset\n",
    "nacidos = pd.read_csv('nacidos-vivos-registrados-2018_deis.csv')"
   ]
  },
  {
   "cell_type": "code",
   "execution_count": 4,
   "metadata": {
    "colab": {
     "base_uri": "https://localhost:8080/",
     "height": 218
    },
    "executionInfo": {
     "elapsed": 143429,
     "status": "ok",
     "timestamp": 1605394377078,
     "user": {
      "displayName": "Manuel Sabini",
      "photoUrl": "https://lh3.googleusercontent.com/a-/AOh14GiCw_XqwwTZm4okpuiBiYEiPvsHfM8Viev-QsqNiw=s64",
      "userId": "05853185241662898714"
     },
     "user_tz": 180
    },
    "id": "EV_k5vaUh9hI",
    "outputId": "ce68917c-4033-42ce-b60a-ef4662becb9e"
   },
   "outputs": [
    {
     "data": {
      "text/html": [
       "<div>\n",
       "<style scoped>\n",
       "    .dataframe tbody tr th:only-of-type {\n",
       "        vertical-align: middle;\n",
       "    }\n",
       "\n",
       "    .dataframe tbody tr th {\n",
       "        vertical-align: top;\n",
       "    }\n",
       "\n",
       "    .dataframe thead th {\n",
       "        text-align: right;\n",
       "    }\n",
       "</style>\n",
       "<table border=\"1\" class=\"dataframe\">\n",
       "  <thead>\n",
       "    <tr style=\"text-align: right;\">\n",
       "      <th></th>\n",
       "      <th>jurisdiccion_de_residencia_id</th>\n",
       "      <th>jurisdiccion_de_residencia_nombre</th>\n",
       "      <th>tipo_de_parto_id</th>\n",
       "      <th>tipo_de_parto_nombre</th>\n",
       "      <th>sexo</th>\n",
       "      <th>sexo_nombre</th>\n",
       "      <th>edad_de_la_madre_grupos_id</th>\n",
       "      <th>edad_de_la_madre_grupos_nombre</th>\n",
       "      <th>semanas_de_gestacion_id</th>\n",
       "      <th>semanas_de_gestacion_nombre</th>\n",
       "      <th>instruccion_de_la_madre_id</th>\n",
       "      <th>instruccion_de_la_madre_nombre</th>\n",
       "      <th>Intervalos_de_peso_al_nacer_id</th>\n",
       "      <th>intervalos_de_peso_al_nacer_nombre</th>\n",
       "      <th>cantidad_nacimientos</th>\n",
       "    </tr>\n",
       "  </thead>\n",
       "  <tbody>\n",
       "    <tr>\n",
       "      <th>0</th>\n",
       "      <td>34</td>\n",
       "      <td>Formosa</td>\n",
       "      <td>1</td>\n",
       "      <td>Simple</td>\n",
       "      <td>2</td>\n",
       "      <td>Mujer</td>\n",
       "      <td>4</td>\n",
       "      <td>25 a 29</td>\n",
       "      <td>5</td>\n",
       "      <td>32 a 36</td>\n",
       "      <td>3</td>\n",
       "      <td>Primaria/C. EGB Completa</td>\n",
       "      <td>5</td>\n",
       "      <td>2000 a 2499</td>\n",
       "      <td>3</td>\n",
       "    </tr>\n",
       "    <tr>\n",
       "      <th>1</th>\n",
       "      <td>2</td>\n",
       "      <td>Ciudad Aut. de Buenos Aires</td>\n",
       "      <td>1</td>\n",
       "      <td>Simple</td>\n",
       "      <td>1</td>\n",
       "      <td>Varón</td>\n",
       "      <td>7</td>\n",
       "      <td>40 a 44</td>\n",
       "      <td>6</td>\n",
       "      <td>37 a 41</td>\n",
       "      <td>3</td>\n",
       "      <td>Primaria/C. EGB Completa</td>\n",
       "      <td>6</td>\n",
       "      <td>2500 a 2999</td>\n",
       "      <td>13</td>\n",
       "    </tr>\n",
       "    <tr>\n",
       "      <th>2</th>\n",
       "      <td>6</td>\n",
       "      <td>Buenos Aires</td>\n",
       "      <td>1</td>\n",
       "      <td>Simple</td>\n",
       "      <td>1</td>\n",
       "      <td>Varón</td>\n",
       "      <td>5</td>\n",
       "      <td>30 a 34</td>\n",
       "      <td>8</td>\n",
       "      <td>Sin especificar</td>\n",
       "      <td>7</td>\n",
       "      <td>Terciaria/Universitaria Comple</td>\n",
       "      <td>4</td>\n",
       "      <td>1500 a 1999</td>\n",
       "      <td>1</td>\n",
       "    </tr>\n",
       "    <tr>\n",
       "      <th>3</th>\n",
       "      <td>82</td>\n",
       "      <td>Santa Fe</td>\n",
       "      <td>1</td>\n",
       "      <td>Simple</td>\n",
       "      <td>2</td>\n",
       "      <td>Mujer</td>\n",
       "      <td>6</td>\n",
       "      <td>35 a 39</td>\n",
       "      <td>6</td>\n",
       "      <td>37 a 41</td>\n",
       "      <td>7</td>\n",
       "      <td>Terciaria/Universitaria Comple</td>\n",
       "      <td>5</td>\n",
       "      <td>2000 a 2499</td>\n",
       "      <td>30</td>\n",
       "    </tr>\n",
       "    <tr>\n",
       "      <th>4</th>\n",
       "      <td>74</td>\n",
       "      <td>San Luis</td>\n",
       "      <td>1</td>\n",
       "      <td>Simple</td>\n",
       "      <td>1</td>\n",
       "      <td>Varón</td>\n",
       "      <td>6</td>\n",
       "      <td>35 a 39</td>\n",
       "      <td>5</td>\n",
       "      <td>32 a 36</td>\n",
       "      <td>5</td>\n",
       "      <td>Secundaria/Polimodal Completa</td>\n",
       "      <td>6</td>\n",
       "      <td>2500 a 2999</td>\n",
       "      <td>4</td>\n",
       "    </tr>\n",
       "  </tbody>\n",
       "</table>\n",
       "</div>"
      ],
      "text/plain": [
       "   jurisdiccion_de_residencia_id jurisdiccion_de_residencia_nombre  \\\n",
       "0                             34                           Formosa   \n",
       "1                              2       Ciudad Aut. de Buenos Aires   \n",
       "2                              6                      Buenos Aires   \n",
       "3                             82                          Santa Fe   \n",
       "4                             74                          San Luis   \n",
       "\n",
       "   tipo_de_parto_id tipo_de_parto_nombre  sexo sexo_nombre  \\\n",
       "0                 1               Simple     2       Mujer   \n",
       "1                 1               Simple     1       Varón   \n",
       "2                 1               Simple     1       Varón   \n",
       "3                 1               Simple     2       Mujer   \n",
       "4                 1               Simple     1       Varón   \n",
       "\n",
       "   edad_de_la_madre_grupos_id edad_de_la_madre_grupos_nombre  \\\n",
       "0                           4                        25 a 29   \n",
       "1                           7                        40 a 44   \n",
       "2                           5                        30 a 34   \n",
       "3                           6                        35 a 39   \n",
       "4                           6                        35 a 39   \n",
       "\n",
       "   semanas_de_gestacion_id semanas_de_gestacion_nombre  \\\n",
       "0                        5                     32 a 36   \n",
       "1                        6                     37 a 41   \n",
       "2                        8             Sin especificar   \n",
       "3                        6                     37 a 41   \n",
       "4                        5                     32 a 36   \n",
       "\n",
       "   instruccion_de_la_madre_id  instruccion_de_la_madre_nombre  \\\n",
       "0                           3        Primaria/C. EGB Completa   \n",
       "1                           3        Primaria/C. EGB Completa   \n",
       "2                           7  Terciaria/Universitaria Comple   \n",
       "3                           7  Terciaria/Universitaria Comple   \n",
       "4                           5   Secundaria/Polimodal Completa   \n",
       "\n",
       "   Intervalos_de_peso_al_nacer_id intervalos_de_peso_al_nacer_nombre  \\\n",
       "0                               5                        2000 a 2499   \n",
       "1                               6                        2500 a 2999   \n",
       "2                               4                        1500 a 1999   \n",
       "3                               5                        2000 a 2499   \n",
       "4                               6                        2500 a 2999   \n",
       "\n",
       "   cantidad_nacimientos  \n",
       "0                     3  \n",
       "1                    13  \n",
       "2                     1  \n",
       "3                    30  \n",
       "4                     4  "
      ]
     },
     "execution_count": 4,
     "metadata": {},
     "output_type": "execute_result"
    }
   ],
   "source": [
    "#Visualizamos las primeras líneas del Dataset\n",
    "nacidos.head()"
   ]
  },
  {
   "cell_type": "code",
   "execution_count": 5,
   "metadata": {
    "colab": {
     "base_uri": "https://localhost:8080/"
    },
    "executionInfo": {
     "elapsed": 143372,
     "status": "ok",
     "timestamp": 1605394377081,
     "user": {
      "displayName": "Manuel Sabini",
      "photoUrl": "https://lh3.googleusercontent.com/a-/AOh14GiCw_XqwwTZm4okpuiBiYEiPvsHfM8Viev-QsqNiw=s64",
      "userId": "05853185241662898714"
     },
     "user_tz": 180
    },
    "id": "meVDBkQVh9hN",
    "outputId": "6c08cce6-f383-4d44-e646-7dbc1366a06c"
   },
   "outputs": [
    {
     "name": "stdout",
     "output_type": "stream",
     "text": [
      "El dataset importado tiene 30099 renglones y 15 columnas\n"
     ]
    }
   ],
   "source": [
    "#Vemos cuántas filas y columnas tiene\n",
    "# Ver que utilizamos la función de numpy \"shape\".\n",
    "print(\"El dataset importado tiene \"+ str(np.shape(nacidos)[0]) + \" renglones y \" + str(np.shape(nacidos)[1]) + \" columnas\")"
   ]
  },
  {
   "cell_type": "code",
   "execution_count": 6,
   "metadata": {
    "colab": {
     "base_uri": "https://localhost:8080/"
    },
    "executionInfo": {
     "elapsed": 143337,
     "status": "ok",
     "timestamp": 1605394377082,
     "user": {
      "displayName": "Manuel Sabini",
      "photoUrl": "https://lh3.googleusercontent.com/a-/AOh14GiCw_XqwwTZm4okpuiBiYEiPvsHfM8Viev-QsqNiw=s64",
      "userId": "05853185241662898714"
     },
     "user_tz": 180
    },
    "id": "FmB1H6NFh9hR",
    "outputId": "02864c13-de6c-4762-d559-516b9967da78"
   },
   "outputs": [
    {
     "data": {
      "text/plain": [
       "jurisdiccion_de_residencia_id         False\n",
       "jurisdiccion_de_residencia_nombre     False\n",
       "tipo_de_parto_id                      False\n",
       "tipo_de_parto_nombre                  False\n",
       "sexo                                  False\n",
       "sexo_nombre                           False\n",
       "edad_de_la_madre_grupos_id            False\n",
       "edad_de_la_madre_grupos_nombre        False\n",
       "semanas_de_gestacion_id               False\n",
       "semanas_de_gestacion_nombre           False\n",
       "instruccion_de_la_madre_id            False\n",
       "instruccion_de_la_madre_nombre        False\n",
       "Intervalos_de_peso_al_nacer_id        False\n",
       "intervalos_de_peso_al_nacer_nombre    False\n",
       "cantidad_nacimientos                  False\n",
       "dtype: bool"
      ]
     },
     "execution_count": 6,
     "metadata": {},
     "output_type": "execute_result"
    }
   ],
   "source": [
    "# Verificamos si hay valores nulos en el Dataset\n",
    "col_nulls = nacidos.isnull().any()\n",
    "col_nulls"
   ]
  },
  {
   "cell_type": "code",
   "execution_count": 7,
   "metadata": {
    "colab": {
     "base_uri": "https://localhost:8080/"
    },
    "executionInfo": {
     "elapsed": 143721,
     "status": "ok",
     "timestamp": 1605394377506,
     "user": {
      "displayName": "Manuel Sabini",
      "photoUrl": "https://lh3.googleusercontent.com/a-/AOh14GiCw_XqwwTZm4okpuiBiYEiPvsHfM8Viev-QsqNiw=s64",
      "userId": "05853185241662898714"
     },
     "user_tz": 180
    },
    "id": "B5Rf229Kh9hW",
    "outputId": "842689cf-14b9-4fc4-a4f3-140f615ec859"
   },
   "outputs": [
    {
     "data": {
      "text/plain": [
       "Index(['jurisdiccion_de_residencia_id', 'jurisdiccion_de_residencia_nombre',\n",
       "       'tipo_de_parto_id', 'tipo_de_parto_nombre', 'sexo', 'sexo_nombre',\n",
       "       'edad_de_la_madre_grupos_id', 'edad_de_la_madre_grupos_nombre',\n",
       "       'semanas_de_gestacion_id', 'semanas_de_gestacion_nombre',\n",
       "       'instruccion_de_la_madre_id', 'instruccion_de_la_madre_nombre',\n",
       "       'Intervalos_de_peso_al_nacer_id', 'intervalos_de_peso_al_nacer_nombre',\n",
       "       'cantidad_nacimientos'],\n",
       "      dtype='object')"
      ]
     },
     "execution_count": 7,
     "metadata": {},
     "output_type": "execute_result"
    }
   ],
   "source": [
    "# Me guardo en un array los nombres de las columnas\n",
    "columns_nacidos = nacidos.columns\n",
    "columns_nacidos"
   ]
  },
  {
   "cell_type": "code",
   "execution_count": 8,
   "metadata": {
    "colab": {
     "base_uri": "https://localhost:8080/"
    },
    "executionInfo": {
     "elapsed": 143693,
     "status": "ok",
     "timestamp": 1605394377512,
     "user": {
      "displayName": "Manuel Sabini",
      "photoUrl": "https://lh3.googleusercontent.com/a-/AOh14GiCw_XqwwTZm4okpuiBiYEiPvsHfM8Viev-QsqNiw=s64",
      "userId": "05853185241662898714"
     },
     "user_tz": 180
    },
    "id": "dtLZWQFch9he",
    "outputId": "3d633c95-75d3-49ef-95c6-bab82c53ef90"
   },
   "outputs": [
    {
     "name": "stdout",
     "output_type": "stream",
     "text": [
      "La columna jurisdiccion_de_residencia_id tiene 26 valores distintos\n",
      "Los valores son: \n",
      "[34  2  6 82 74 99 66 58 62 54 90 78 10 86 22 46 42 38 30 50 26 18 14 70\n",
      " 94 98]\n",
      "\n",
      "La columna jurisdiccion_de_residencia_nombre tiene 26 valores distintos\n",
      "Los valores son: \n",
      "['Formosa' 'Ciudad Aut. de Buenos Aires' 'Buenos Aires' 'Santa Fe'\n",
      " 'San Luis' 'Lugar no especificado' 'Salta' 'Neuquén' 'Río Negro'\n",
      " 'Misiones' 'Tucumán' 'Santa Cruz' 'Catamarca' 'Santiago del Estero'\n",
      " 'Chaco' 'La Rioja' 'La Pampa' 'Jujuy' 'Entre Ríos' 'Mendoza' 'Chubut'\n",
      " 'Corrientes' 'Córdoba' 'San Juan' 'Tierra del Fuego' 'Otro país']\n",
      "\n",
      "La columna tipo_de_parto_id tiene 3 valores distintos\n",
      "Los valores son: \n",
      "[1 2 9]\n",
      "\n",
      "La columna tipo_de_parto_nombre tiene 3 valores distintos\n",
      "Los valores son: \n",
      "['Simple' 'Múltiple' 'Sin especificar']\n",
      "\n",
      "La columna sexo tiene 4 valores distintos\n",
      "Los valores son: \n",
      "[2 1 9 3]\n",
      "\n",
      "La columna sexo_nombre tiene 4 valores distintos\n",
      "Los valores son: \n",
      "['Mujer' 'Varón' 'Sin espeficar' 'Indeterminado']\n",
      "\n",
      "La columna edad_de_la_madre_grupos_id tiene 9 valores distintos\n",
      "Los valores son: \n",
      "[4 7 5 6 3 2 9 8 1]\n",
      "\n",
      "La columna edad_de_la_madre_grupos_nombre tiene 9 valores distintos\n",
      "Los valores son: \n",
      "['25 a 29' '40 a 44' '30 a 34' '35 a 39' '20 a 24' '15 a 19'\n",
      " 'Sin especificar' 'De 45 y más' 'Menor de 15']\n",
      "\n",
      "La columna semanas_de_gestacion_id tiene 8 valores distintos\n",
      "Los valores son: \n",
      "[5 6 8 7 3 4 1 2]\n",
      "\n",
      "La columna semanas_de_gestacion_nombre tiene 8 valores distintos\n",
      "Los valores son: \n",
      "['32 a 36' '37 a 41' 'Sin especificar' '42 y más' '24 a 27' '28 a 31'\n",
      " 'Menos de 22' '22 a 23']\n",
      "\n",
      "La columna instruccion_de_la_madre_id tiene 8 valores distintos\n",
      "Los valores son: \n",
      "[3 7 5 2 8 4 6 1]\n",
      "\n",
      "La columna instruccion_de_la_madre_nombre tiene 8 valores distintos\n",
      "Los valores son: \n",
      "['Primaria/C. EGB Completa' 'Terciaria/Universitaria Comple'\n",
      " 'Secundaria/Polimodal Completa' 'Primaria/C. EGB Incompleta'\n",
      " 'Sin especificar' 'Secundaria/Polimodal Incomplet'\n",
      " 'Terciaria/Universitaria Incomp' 'Sin instrucción']\n",
      "\n",
      "La columna Intervalos_de_peso_al_nacer_id tiene 9 valores distintos\n",
      "Los valores son: \n",
      "[5 6 4 7 3 8 9 2 1]\n",
      "\n",
      "La columna intervalos_de_peso_al_nacer_nombre tiene 9 valores distintos\n",
      "Los valores son: \n",
      "['2000 a 2499' '2500 a 2999' '1500 a 1999' '3000 a 3499' '1000 a 1499'\n",
      " 'De 3500 y más' 'Sin especificar' '500 a 999' 'Menor de 500']\n",
      "\n"
     ]
    }
   ],
   "source": [
    "#Vamos a ver los valores que tenemos en cada columna\n",
    "\n",
    "for i in range(14):\n",
    "        print('La columna '+ str(columns_nacidos[i])+' tiene '+ str(len(nacidos[columns_nacidos[i]].unique()))+' valores distintos')\n",
    "        print('Los valores son: \\n'+str(nacidos[columns_nacidos[i]].unique())+'\\n')"
   ]
  },
  {
   "cell_type": "markdown",
   "metadata": {
    "id": "N3SuPqTyh9hi"
   },
   "source": [
    "##### Vemos que varias columnas indican 'Sin especificar' es decir no tienen información.  Debemos ver que porcentaje de cada una tiene esta situación para poder tomar una decision."
   ]
  },
  {
   "cell_type": "code",
   "execution_count": 9,
   "metadata": {
    "executionInfo": {
     "elapsed": 143684,
     "status": "ok",
     "timestamp": 1605394377516,
     "user": {
      "displayName": "Manuel Sabini",
      "photoUrl": "https://lh3.googleusercontent.com/a-/AOh14GiCw_XqwwTZm4okpuiBiYEiPvsHfM8Viev-QsqNiw=s64",
      "userId": "05853185241662898714"
     },
     "user_tz": 180
    },
    "id": "IBdN8tgZh9hi"
   },
   "outputs": [],
   "source": [
    "#Veo que existen algunas columnas que tienen mal escrito \"Sin especificar\". Hago el reemplazo\n",
    "nacidos['sexo_nombre']= nacidos['sexo_nombre'].str.replace('Sin espeficar','Sin especificar')\n",
    "nacidos['jurisdiccion_de_residencia_nombre']= nacidos['jurisdiccion_de_residencia_nombre'].str.replace('Lugar no especificado','Sin especificar')"
   ]
  },
  {
   "cell_type": "code",
   "execution_count": 10,
   "metadata": {
    "executionInfo": {
     "elapsed": 143678,
     "status": "ok",
     "timestamp": 1605394377520,
     "user": {
      "displayName": "Manuel Sabini",
      "photoUrl": "https://lh3.googleusercontent.com/a-/AOh14GiCw_XqwwTZm4okpuiBiYEiPvsHfM8Viev-QsqNiw=s64",
      "userId": "05853185241662898714"
     },
     "user_tz": 180
    },
    "id": "KtMH5Paih9hm"
   },
   "outputs": [],
   "source": [
    "# Creo un Dataframe donde guardaré el % de valores sin especificar para cada columna\n",
    "sin_esp = pd.DataFrame(columns = ['Column_name','% valores Sin especificar'])"
   ]
  },
  {
   "cell_type": "code",
   "execution_count": 11,
   "metadata": {
    "colab": {
     "base_uri": "https://localhost:8080/",
     "height": 258
    },
    "executionInfo": {
     "elapsed": 143662,
     "status": "ok",
     "timestamp": 1605394377529,
     "user": {
      "displayName": "Manuel Sabini",
      "photoUrl": "https://lh3.googleusercontent.com/a-/AOh14GiCw_XqwwTZm4okpuiBiYEiPvsHfM8Viev-QsqNiw=s64",
      "userId": "05853185241662898714"
     },
     "user_tz": 180
    },
    "id": "9hTvlhhrh9hy",
    "outputId": "89f14acd-beae-45cb-caa1-d6088401dded"
   },
   "outputs": [
    {
     "data": {
      "text/html": [
       "<div>\n",
       "<style scoped>\n",
       "    .dataframe tbody tr th:only-of-type {\n",
       "        vertical-align: middle;\n",
       "    }\n",
       "\n",
       "    .dataframe tbody tr th {\n",
       "        vertical-align: top;\n",
       "    }\n",
       "\n",
       "    .dataframe thead th {\n",
       "        text-align: right;\n",
       "    }\n",
       "</style>\n",
       "<table border=\"1\" class=\"dataframe\">\n",
       "  <thead>\n",
       "    <tr style=\"text-align: right;\">\n",
       "      <th></th>\n",
       "      <th>Column_name</th>\n",
       "      <th>% valores Sin especificar</th>\n",
       "    </tr>\n",
       "  </thead>\n",
       "  <tbody>\n",
       "    <tr>\n",
       "      <th>0</th>\n",
       "      <td>jurisdiccion_de_residencia_nombre</td>\n",
       "      <td>2.15</td>\n",
       "    </tr>\n",
       "    <tr>\n",
       "      <th>1</th>\n",
       "      <td>tipo_de_parto_nombre</td>\n",
       "      <td>0.66</td>\n",
       "    </tr>\n",
       "    <tr>\n",
       "      <th>2</th>\n",
       "      <td>sexo_nombre</td>\n",
       "      <td>2.19</td>\n",
       "    </tr>\n",
       "    <tr>\n",
       "      <th>3</th>\n",
       "      <td>edad_de_la_madre_grupos_nombre</td>\n",
       "      <td>2.51</td>\n",
       "    </tr>\n",
       "    <tr>\n",
       "      <th>4</th>\n",
       "      <td>semanas_de_gestacion_nombre</td>\n",
       "      <td>6.01</td>\n",
       "    </tr>\n",
       "    <tr>\n",
       "      <th>5</th>\n",
       "      <td>instruccion_de_la_madre_nombre</td>\n",
       "      <td>8.86</td>\n",
       "    </tr>\n",
       "    <tr>\n",
       "      <th>6</th>\n",
       "      <td>intervalos_de_peso_al_nacer_nombre</td>\n",
       "      <td>3.80</td>\n",
       "    </tr>\n",
       "  </tbody>\n",
       "</table>\n",
       "</div>"
      ],
      "text/plain": [
       "                          Column_name  % valores Sin especificar\n",
       "0   jurisdiccion_de_residencia_nombre                       2.15\n",
       "1                tipo_de_parto_nombre                       0.66\n",
       "2                         sexo_nombre                       2.19\n",
       "3      edad_de_la_madre_grupos_nombre                       2.51\n",
       "4         semanas_de_gestacion_nombre                       6.01\n",
       "5      instruccion_de_la_madre_nombre                       8.86\n",
       "6  intervalos_de_peso_al_nacer_nombre                       3.80"
      ]
     },
     "execution_count": 11,
     "metadata": {},
     "output_type": "execute_result"
    }
   ],
   "source": [
    "#Verificamos que porcentaje de valores sin especificar tenemos para cada columna\n",
    "for t in [1,3,5,7,9,11,13]:\n",
    "    se = nacidos.loc[nacidos[columns_nacidos[t]] == 'Sin especificar']\n",
    "    cant = round(((se.shape[0]/nacidos.shape[0])*100),2)\n",
    "    new_row = {'Column_name':columns_nacidos[t],'% valores Sin especificar': cant}\n",
    "    sin_esp = sin_esp.append(new_row,ignore_index = True)\n",
    "sin_esp"
   ]
  },
  {
   "cell_type": "markdown",
   "metadata": {},
   "source": [
    "###### Assumption: Para tener la cantidad de nacidos y no de nacimientos se multiplica la columna que indica el tipo de parto con la de cantidad de nacimientos. Encontramos qeu esta columna tiene algunos valores sin especificar y además la clasificación de tipo de parto, sólo indica \"Simple\" o \"Múltiple\". Se supuso lo siguiente:\n",
    "\n",
    "- Los valores sin especificar corresponden a nacimientos Simples\n",
    "- Los nacimientos múltiples corresponden a nacimientos de dos bebés y no más."
   ]
  },
  {
   "cell_type": "code",
   "execution_count": 12,
   "metadata": {},
   "outputs": [],
   "source": [
    "#Se sacan del dataset los datos que no indican la jurisdicción de residencia.\n",
    "nacidos=nacidos.drop(nacidos[nacidos[\"jurisdiccion_de_residencia_nombre\"] == 'Sin especificar'].index)"
   ]
  },
  {
   "cell_type": "code",
   "execution_count": 13,
   "metadata": {},
   "outputs": [],
   "source": [
    "#Asumo que siempre que \"Tipo_de_parto_nombre\" sea sin especificar será un nacimiento simple.\n",
    "nacidos['tipo_de_parto_id'].replace('9', 1, inplace = True )\n",
    "nacidos['tipo_de_parto_nombre'].replace('Sin especificar', 'Simple', inplace = True )"
   ]
  },
  {
   "cell_type": "code",
   "execution_count": 14,
   "metadata": {
    "scrolled": true
   },
   "outputs": [
    {
     "data": {
      "text/html": [
       "<div>\n",
       "<style scoped>\n",
       "    .dataframe tbody tr th:only-of-type {\n",
       "        vertical-align: middle;\n",
       "    }\n",
       "\n",
       "    .dataframe tbody tr th {\n",
       "        vertical-align: top;\n",
       "    }\n",
       "\n",
       "    .dataframe thead th {\n",
       "        text-align: right;\n",
       "    }\n",
       "</style>\n",
       "<table border=\"1\" class=\"dataframe\">\n",
       "  <thead>\n",
       "    <tr style=\"text-align: right;\">\n",
       "      <th></th>\n",
       "      <th>jurisdiccion_de_residencia_id</th>\n",
       "      <th>jurisdiccion_de_residencia_nombre</th>\n",
       "      <th>tipo_de_parto_id</th>\n",
       "      <th>tipo_de_parto_nombre</th>\n",
       "      <th>sexo</th>\n",
       "      <th>sexo_nombre</th>\n",
       "      <th>edad_de_la_madre_grupos_id</th>\n",
       "      <th>edad_de_la_madre_grupos_nombre</th>\n",
       "      <th>semanas_de_gestacion_id</th>\n",
       "      <th>semanas_de_gestacion_nombre</th>\n",
       "      <th>instruccion_de_la_madre_id</th>\n",
       "      <th>instruccion_de_la_madre_nombre</th>\n",
       "      <th>Intervalos_de_peso_al_nacer_id</th>\n",
       "      <th>intervalos_de_peso_al_nacer_nombre</th>\n",
       "      <th>cantidad_nacimientos</th>\n",
       "      <th>nacidos</th>\n",
       "    </tr>\n",
       "  </thead>\n",
       "  <tbody>\n",
       "    <tr>\n",
       "      <th>30094</th>\n",
       "      <td>18</td>\n",
       "      <td>Corrientes</td>\n",
       "      <td>1</td>\n",
       "      <td>Simple</td>\n",
       "      <td>1</td>\n",
       "      <td>Varón</td>\n",
       "      <td>9</td>\n",
       "      <td>Sin especificar</td>\n",
       "      <td>6</td>\n",
       "      <td>37 a 41</td>\n",
       "      <td>3</td>\n",
       "      <td>Primaria/C. EGB Completa</td>\n",
       "      <td>8</td>\n",
       "      <td>De 3500 y más</td>\n",
       "      <td>2</td>\n",
       "      <td>2</td>\n",
       "    </tr>\n",
       "    <tr>\n",
       "      <th>30095</th>\n",
       "      <td>34</td>\n",
       "      <td>Formosa</td>\n",
       "      <td>1</td>\n",
       "      <td>Simple</td>\n",
       "      <td>1</td>\n",
       "      <td>Varón</td>\n",
       "      <td>4</td>\n",
       "      <td>25 a 29</td>\n",
       "      <td>4</td>\n",
       "      <td>28 a 31</td>\n",
       "      <td>8</td>\n",
       "      <td>Sin especificar</td>\n",
       "      <td>8</td>\n",
       "      <td>De 3500 y más</td>\n",
       "      <td>1</td>\n",
       "      <td>1</td>\n",
       "    </tr>\n",
       "    <tr>\n",
       "      <th>30096</th>\n",
       "      <td>86</td>\n",
       "      <td>Santiago del Estero</td>\n",
       "      <td>1</td>\n",
       "      <td>Simple</td>\n",
       "      <td>2</td>\n",
       "      <td>Mujer</td>\n",
       "      <td>7</td>\n",
       "      <td>40 a 44</td>\n",
       "      <td>6</td>\n",
       "      <td>37 a 41</td>\n",
       "      <td>3</td>\n",
       "      <td>Primaria/C. EGB Completa</td>\n",
       "      <td>5</td>\n",
       "      <td>2000 a 2499</td>\n",
       "      <td>5</td>\n",
       "      <td>5</td>\n",
       "    </tr>\n",
       "    <tr>\n",
       "      <th>30097</th>\n",
       "      <td>6</td>\n",
       "      <td>Buenos Aires</td>\n",
       "      <td>2</td>\n",
       "      <td>Múltiple</td>\n",
       "      <td>9</td>\n",
       "      <td>Sin especificar</td>\n",
       "      <td>4</td>\n",
       "      <td>25 a 29</td>\n",
       "      <td>8</td>\n",
       "      <td>Sin especificar</td>\n",
       "      <td>8</td>\n",
       "      <td>Sin especificar</td>\n",
       "      <td>9</td>\n",
       "      <td>Sin especificar</td>\n",
       "      <td>2</td>\n",
       "      <td>4</td>\n",
       "    </tr>\n",
       "    <tr>\n",
       "      <th>30098</th>\n",
       "      <td>70</td>\n",
       "      <td>San Juan</td>\n",
       "      <td>2</td>\n",
       "      <td>Múltiple</td>\n",
       "      <td>2</td>\n",
       "      <td>Mujer</td>\n",
       "      <td>4</td>\n",
       "      <td>25 a 29</td>\n",
       "      <td>5</td>\n",
       "      <td>32 a 36</td>\n",
       "      <td>5</td>\n",
       "      <td>Secundaria/Polimodal Completa</td>\n",
       "      <td>5</td>\n",
       "      <td>2000 a 2499</td>\n",
       "      <td>4</td>\n",
       "      <td>8</td>\n",
       "    </tr>\n",
       "  </tbody>\n",
       "</table>\n",
       "</div>"
      ],
      "text/plain": [
       "       jurisdiccion_de_residencia_id jurisdiccion_de_residencia_nombre  \\\n",
       "30094                             18                        Corrientes   \n",
       "30095                             34                           Formosa   \n",
       "30096                             86               Santiago del Estero   \n",
       "30097                              6                      Buenos Aires   \n",
       "30098                             70                          San Juan   \n",
       "\n",
       "       tipo_de_parto_id tipo_de_parto_nombre  sexo      sexo_nombre  \\\n",
       "30094                 1               Simple     1            Varón   \n",
       "30095                 1               Simple     1            Varón   \n",
       "30096                 1               Simple     2            Mujer   \n",
       "30097                 2             Múltiple     9  Sin especificar   \n",
       "30098                 2             Múltiple     2            Mujer   \n",
       "\n",
       "       edad_de_la_madre_grupos_id edad_de_la_madre_grupos_nombre  \\\n",
       "30094                           9                Sin especificar   \n",
       "30095                           4                        25 a 29   \n",
       "30096                           7                        40 a 44   \n",
       "30097                           4                        25 a 29   \n",
       "30098                           4                        25 a 29   \n",
       "\n",
       "       semanas_de_gestacion_id semanas_de_gestacion_nombre  \\\n",
       "30094                        6                     37 a 41   \n",
       "30095                        4                     28 a 31   \n",
       "30096                        6                     37 a 41   \n",
       "30097                        8             Sin especificar   \n",
       "30098                        5                     32 a 36   \n",
       "\n",
       "       instruccion_de_la_madre_id instruccion_de_la_madre_nombre  \\\n",
       "30094                           3       Primaria/C. EGB Completa   \n",
       "30095                           8                Sin especificar   \n",
       "30096                           3       Primaria/C. EGB Completa   \n",
       "30097                           8                Sin especificar   \n",
       "30098                           5  Secundaria/Polimodal Completa   \n",
       "\n",
       "       Intervalos_de_peso_al_nacer_id intervalos_de_peso_al_nacer_nombre  \\\n",
       "30094                               8                      De 3500 y más   \n",
       "30095                               8                      De 3500 y más   \n",
       "30096                               5                        2000 a 2499   \n",
       "30097                               9                    Sin especificar   \n",
       "30098                               5                        2000 a 2499   \n",
       "\n",
       "       cantidad_nacimientos  nacidos  \n",
       "30094                     2        2  \n",
       "30095                     1        1  \n",
       "30096                     5        5  \n",
       "30097                     2        4  \n",
       "30098                     4        8  "
      ]
     },
     "execution_count": 14,
     "metadata": {},
     "output_type": "execute_result"
    }
   ],
   "source": [
    "#Agregamos una columna con la cantidad real de bebés nacidos teniendo en cuenta que hay nacimientos múltiples\n",
    "nacidos['nacidos'] = nacidos['tipo_de_parto_id']*nacidos['cantidad_nacimientos']\n",
    "nacidos.tail()"
   ]
  },
  {
   "cell_type": "code",
   "execution_count": 15,
   "metadata": {
    "scrolled": true
   },
   "outputs": [
    {
     "data": {
      "text/html": [
       "<div>\n",
       "<style scoped>\n",
       "    .dataframe tbody tr th:only-of-type {\n",
       "        vertical-align: middle;\n",
       "    }\n",
       "\n",
       "    .dataframe tbody tr th {\n",
       "        vertical-align: top;\n",
       "    }\n",
       "\n",
       "    .dataframe thead th {\n",
       "        text-align: right;\n",
       "    }\n",
       "</style>\n",
       "<table border=\"1\" class=\"dataframe\">\n",
       "  <thead>\n",
       "    <tr style=\"text-align: right;\">\n",
       "      <th></th>\n",
       "      <th>jurisdiccion_de_residencia_nombre</th>\n",
       "      <th>tipo_de_parto_nombre</th>\n",
       "      <th>sexo_nombre</th>\n",
       "      <th>edad_de_la_madre_grupos_nombre</th>\n",
       "      <th>semanas_de_gestacion_nombre</th>\n",
       "      <th>instruccion_de_la_madre_nombre</th>\n",
       "      <th>Intervalos_de_peso_al_nacer_id</th>\n",
       "      <th>nacidos</th>\n",
       "    </tr>\n",
       "  </thead>\n",
       "  <tbody>\n",
       "    <tr>\n",
       "      <th>0</th>\n",
       "      <td>Formosa</td>\n",
       "      <td>Simple</td>\n",
       "      <td>Mujer</td>\n",
       "      <td>25 a 29</td>\n",
       "      <td>32 a 36</td>\n",
       "      <td>Primaria/C. EGB Completa</td>\n",
       "      <td>5</td>\n",
       "      <td>3</td>\n",
       "    </tr>\n",
       "    <tr>\n",
       "      <th>1</th>\n",
       "      <td>Ciudad Aut. de Buenos Aires</td>\n",
       "      <td>Simple</td>\n",
       "      <td>Varón</td>\n",
       "      <td>40 a 44</td>\n",
       "      <td>37 a 41</td>\n",
       "      <td>Primaria/C. EGB Completa</td>\n",
       "      <td>6</td>\n",
       "      <td>13</td>\n",
       "    </tr>\n",
       "    <tr>\n",
       "      <th>2</th>\n",
       "      <td>Buenos Aires</td>\n",
       "      <td>Simple</td>\n",
       "      <td>Varón</td>\n",
       "      <td>30 a 34</td>\n",
       "      <td>Sin especificar</td>\n",
       "      <td>Terciaria/Universitaria Comple</td>\n",
       "      <td>4</td>\n",
       "      <td>1</td>\n",
       "    </tr>\n",
       "    <tr>\n",
       "      <th>3</th>\n",
       "      <td>Santa Fe</td>\n",
       "      <td>Simple</td>\n",
       "      <td>Mujer</td>\n",
       "      <td>35 a 39</td>\n",
       "      <td>37 a 41</td>\n",
       "      <td>Terciaria/Universitaria Comple</td>\n",
       "      <td>5</td>\n",
       "      <td>30</td>\n",
       "    </tr>\n",
       "    <tr>\n",
       "      <th>4</th>\n",
       "      <td>San Luis</td>\n",
       "      <td>Simple</td>\n",
       "      <td>Varón</td>\n",
       "      <td>35 a 39</td>\n",
       "      <td>32 a 36</td>\n",
       "      <td>Secundaria/Polimodal Completa</td>\n",
       "      <td>6</td>\n",
       "      <td>4</td>\n",
       "    </tr>\n",
       "    <tr>\n",
       "      <th>...</th>\n",
       "      <td>...</td>\n",
       "      <td>...</td>\n",
       "      <td>...</td>\n",
       "      <td>...</td>\n",
       "      <td>...</td>\n",
       "      <td>...</td>\n",
       "      <td>...</td>\n",
       "      <td>...</td>\n",
       "    </tr>\n",
       "    <tr>\n",
       "      <th>30094</th>\n",
       "      <td>Corrientes</td>\n",
       "      <td>Simple</td>\n",
       "      <td>Varón</td>\n",
       "      <td>Sin especificar</td>\n",
       "      <td>37 a 41</td>\n",
       "      <td>Primaria/C. EGB Completa</td>\n",
       "      <td>8</td>\n",
       "      <td>2</td>\n",
       "    </tr>\n",
       "    <tr>\n",
       "      <th>30095</th>\n",
       "      <td>Formosa</td>\n",
       "      <td>Simple</td>\n",
       "      <td>Varón</td>\n",
       "      <td>25 a 29</td>\n",
       "      <td>28 a 31</td>\n",
       "      <td>Sin especificar</td>\n",
       "      <td>8</td>\n",
       "      <td>1</td>\n",
       "    </tr>\n",
       "    <tr>\n",
       "      <th>30096</th>\n",
       "      <td>Santiago del Estero</td>\n",
       "      <td>Simple</td>\n",
       "      <td>Mujer</td>\n",
       "      <td>40 a 44</td>\n",
       "      <td>37 a 41</td>\n",
       "      <td>Primaria/C. EGB Completa</td>\n",
       "      <td>5</td>\n",
       "      <td>5</td>\n",
       "    </tr>\n",
       "    <tr>\n",
       "      <th>30097</th>\n",
       "      <td>Buenos Aires</td>\n",
       "      <td>Múltiple</td>\n",
       "      <td>Sin especificar</td>\n",
       "      <td>25 a 29</td>\n",
       "      <td>Sin especificar</td>\n",
       "      <td>Sin especificar</td>\n",
       "      <td>9</td>\n",
       "      <td>4</td>\n",
       "    </tr>\n",
       "    <tr>\n",
       "      <th>30098</th>\n",
       "      <td>San Juan</td>\n",
       "      <td>Múltiple</td>\n",
       "      <td>Mujer</td>\n",
       "      <td>25 a 29</td>\n",
       "      <td>32 a 36</td>\n",
       "      <td>Secundaria/Polimodal Completa</td>\n",
       "      <td>5</td>\n",
       "      <td>8</td>\n",
       "    </tr>\n",
       "  </tbody>\n",
       "</table>\n",
       "<p>29453 rows × 8 columns</p>\n",
       "</div>"
      ],
      "text/plain": [
       "      jurisdiccion_de_residencia_nombre tipo_de_parto_nombre      sexo_nombre  \\\n",
       "0                               Formosa               Simple            Mujer   \n",
       "1           Ciudad Aut. de Buenos Aires               Simple            Varón   \n",
       "2                          Buenos Aires               Simple            Varón   \n",
       "3                              Santa Fe               Simple            Mujer   \n",
       "4                              San Luis               Simple            Varón   \n",
       "...                                 ...                  ...              ...   \n",
       "30094                        Corrientes               Simple            Varón   \n",
       "30095                           Formosa               Simple            Varón   \n",
       "30096               Santiago del Estero               Simple            Mujer   \n",
       "30097                      Buenos Aires             Múltiple  Sin especificar   \n",
       "30098                          San Juan             Múltiple            Mujer   \n",
       "\n",
       "      edad_de_la_madre_grupos_nombre semanas_de_gestacion_nombre  \\\n",
       "0                            25 a 29                     32 a 36   \n",
       "1                            40 a 44                     37 a 41   \n",
       "2                            30 a 34             Sin especificar   \n",
       "3                            35 a 39                     37 a 41   \n",
       "4                            35 a 39                     32 a 36   \n",
       "...                              ...                         ...   \n",
       "30094                Sin especificar                     37 a 41   \n",
       "30095                        25 a 29                     28 a 31   \n",
       "30096                        40 a 44                     37 a 41   \n",
       "30097                        25 a 29             Sin especificar   \n",
       "30098                        25 a 29                     32 a 36   \n",
       "\n",
       "       instruccion_de_la_madre_nombre  Intervalos_de_peso_al_nacer_id  nacidos  \n",
       "0            Primaria/C. EGB Completa                               5        3  \n",
       "1            Primaria/C. EGB Completa                               6       13  \n",
       "2      Terciaria/Universitaria Comple                               4        1  \n",
       "3      Terciaria/Universitaria Comple                               5       30  \n",
       "4       Secundaria/Polimodal Completa                               6        4  \n",
       "...                               ...                             ...      ...  \n",
       "30094        Primaria/C. EGB Completa                               8        2  \n",
       "30095                 Sin especificar                               8        1  \n",
       "30096        Primaria/C. EGB Completa                               5        5  \n",
       "30097                 Sin especificar                               9        4  \n",
       "30098   Secundaria/Polimodal Completa                               5        8  \n",
       "\n",
       "[29453 rows x 8 columns]"
      ]
     },
     "execution_count": 15,
     "metadata": {},
     "output_type": "execute_result"
    }
   ],
   "source": [
    "#Se eliminan las features que tienen los ids de identificación manteniendo las que poseen los nombres.\n",
    "nacidos_prep=nacidos.drop(['jurisdiccion_de_residencia_id','tipo_de_parto_id','sexo','edad_de_la_madre_grupos_id','instruccion_de_la_madre_id','cantidad_nacimientos','semanas_de_gestacion_id','intervalos_de_peso_al_nacer_nombre'], axis=1)\n",
    "nacidos_prep"
   ]
  },
  {
   "cell_type": "markdown",
   "metadata": {
    "id": "fG8A4FnFX-x3"
   },
   "source": [
    "Debido a que nuestro dataset original está \"preprocesado\" lo que haremos es volver atras y descomponerlo. En nuestro dataset cada linea representa una combinacion de caracteristicas que tienen los niños al nacer y en la ultima feature de la sample indica la cantidad de niños que tienen esas caracteristicas. Lo que buscamos es pasar a un Dataset que contenga un sample por cada recien nacido. (Esta linea de codigo puede durar varios minutos, aprox=10min)\n"
   ]
  },
  {
   "cell_type": "code",
   "execution_count": null,
   "metadata": {},
   "outputs": [],
   "source": [
    "samples = np.shape(nacidos_prep)[0]\n",
    "n_col= nacidos_prep.shape[1]-1"
   ]
  },
  {
   "cell_type": "code",
   "execution_count": null,
   "metadata": {},
   "outputs": [],
   "source": [
    "for j in range(samples):\n",
    "    registro_a_repetir = nacidos_prep.iloc[j, :]\n",
    "    n=nacidos_prep.iloc[j, n_col]-1\n",
    "    nacidos_prep=nacidos_prep.append(([registro_a_repetir]*n), ignore_index=True)"
   ]
  },
  {
   "cell_type": "code",
   "execution_count": null,
   "metadata": {
    "colab": {
     "base_uri": "https://localhost:8080/",
     "height": 407
    },
    "executionInfo": {
     "elapsed": 145961,
     "status": "ok",
     "timestamp": 1605394380164,
     "user": {
      "displayName": "Manuel Sabini",
      "photoUrl": "https://lh3.googleusercontent.com/a-/AOh14GiCw_XqwwTZm4okpuiBiYEiPvsHfM8Viev-QsqNiw=s64",
      "userId": "05853185241662898714"
     },
     "user_tz": 180
    },
    "id": "M4vrQPm-h9iw",
    "outputId": "583d6a02-bc85-46a0-ff6e-a53de8dd1afe"
   },
   "outputs": [],
   "source": [
    "nacidos_prep=nacidos_prep.drop(['nacidos'], axis=1)\n",
    "nacidos_prep.shape"
   ]
  },
  {
   "cell_type": "code",
   "execution_count": null,
   "metadata": {
    "scrolled": true
   },
   "outputs": [],
   "source": [
    "nacidos_prep.head()"
   ]
  },
  {
   "cell_type": "code",
   "execution_count": null,
   "metadata": {},
   "outputs": [],
   "source": [
    "nacidos_prep.to_csv (r'C:\\Users\\60065215\\Desktop\\Facultad\\Ciencia de Datos\\TP Grupal\\TP\\export_nacidos_dummies.csv', index = False, header=True)"
   ]
  },
  {
   "cell_type": "markdown",
   "metadata": {
    "id": "hizQ8ifVXt4D"
   },
   "source": [
    "## **Machine Learning**"
   ]
  },
  {
   "cell_type": "code",
   "execution_count": 16,
   "metadata": {},
   "outputs": [
    {
     "data": {
      "text/html": [
       "<div>\n",
       "<style scoped>\n",
       "    .dataframe tbody tr th:only-of-type {\n",
       "        vertical-align: middle;\n",
       "    }\n",
       "\n",
       "    .dataframe tbody tr th {\n",
       "        vertical-align: top;\n",
       "    }\n",
       "\n",
       "    .dataframe thead th {\n",
       "        text-align: right;\n",
       "    }\n",
       "</style>\n",
       "<table border=\"1\" class=\"dataframe\">\n",
       "  <thead>\n",
       "    <tr style=\"text-align: right;\">\n",
       "      <th></th>\n",
       "      <th>jurisdiccion_de_residencia_nombre</th>\n",
       "      <th>tipo_de_parto_nombre</th>\n",
       "      <th>sexo_nombre</th>\n",
       "      <th>edad_de_la_madre_grupos_nombre</th>\n",
       "      <th>semanas_de_gestacion_nombre</th>\n",
       "      <th>instruccion_de_la_madre_nombre</th>\n",
       "      <th>Intervalos_de_peso_al_nacer_id</th>\n",
       "    </tr>\n",
       "  </thead>\n",
       "  <tbody>\n",
       "    <tr>\n",
       "      <th>0</th>\n",
       "      <td>Formosa</td>\n",
       "      <td>Simple</td>\n",
       "      <td>Mujer</td>\n",
       "      <td>25 a 29</td>\n",
       "      <td>32 a 36</td>\n",
       "      <td>Primaria/C. EGB Completa</td>\n",
       "      <td>5</td>\n",
       "    </tr>\n",
       "    <tr>\n",
       "      <th>1</th>\n",
       "      <td>Ciudad Aut. de Buenos Aires</td>\n",
       "      <td>Simple</td>\n",
       "      <td>Varón</td>\n",
       "      <td>40 a 44</td>\n",
       "      <td>37 a 41</td>\n",
       "      <td>Primaria/C. EGB Completa</td>\n",
       "      <td>6</td>\n",
       "    </tr>\n",
       "    <tr>\n",
       "      <th>2</th>\n",
       "      <td>Buenos Aires</td>\n",
       "      <td>Simple</td>\n",
       "      <td>Varón</td>\n",
       "      <td>30 a 34</td>\n",
       "      <td>Sin especificar</td>\n",
       "      <td>Terciaria/Universitaria Comple</td>\n",
       "      <td>4</td>\n",
       "    </tr>\n",
       "    <tr>\n",
       "      <th>3</th>\n",
       "      <td>Santa Fe</td>\n",
       "      <td>Simple</td>\n",
       "      <td>Mujer</td>\n",
       "      <td>35 a 39</td>\n",
       "      <td>37 a 41</td>\n",
       "      <td>Terciaria/Universitaria Comple</td>\n",
       "      <td>5</td>\n",
       "    </tr>\n",
       "    <tr>\n",
       "      <th>4</th>\n",
       "      <td>San Luis</td>\n",
       "      <td>Simple</td>\n",
       "      <td>Varón</td>\n",
       "      <td>35 a 39</td>\n",
       "      <td>32 a 36</td>\n",
       "      <td>Secundaria/Polimodal Completa</td>\n",
       "      <td>6</td>\n",
       "    </tr>\n",
       "    <tr>\n",
       "      <th>...</th>\n",
       "      <td>...</td>\n",
       "      <td>...</td>\n",
       "      <td>...</td>\n",
       "      <td>...</td>\n",
       "      <td>...</td>\n",
       "      <td>...</td>\n",
       "      <td>...</td>\n",
       "    </tr>\n",
       "    <tr>\n",
       "      <th>699481</th>\n",
       "      <td>San Juan</td>\n",
       "      <td>Múltiple</td>\n",
       "      <td>Mujer</td>\n",
       "      <td>25 a 29</td>\n",
       "      <td>32 a 36</td>\n",
       "      <td>Secundaria/Polimodal Completa</td>\n",
       "      <td>5</td>\n",
       "    </tr>\n",
       "    <tr>\n",
       "      <th>699482</th>\n",
       "      <td>San Juan</td>\n",
       "      <td>Múltiple</td>\n",
       "      <td>Mujer</td>\n",
       "      <td>25 a 29</td>\n",
       "      <td>32 a 36</td>\n",
       "      <td>Secundaria/Polimodal Completa</td>\n",
       "      <td>5</td>\n",
       "    </tr>\n",
       "    <tr>\n",
       "      <th>699483</th>\n",
       "      <td>San Juan</td>\n",
       "      <td>Múltiple</td>\n",
       "      <td>Mujer</td>\n",
       "      <td>25 a 29</td>\n",
       "      <td>32 a 36</td>\n",
       "      <td>Secundaria/Polimodal Completa</td>\n",
       "      <td>5</td>\n",
       "    </tr>\n",
       "    <tr>\n",
       "      <th>699484</th>\n",
       "      <td>San Juan</td>\n",
       "      <td>Múltiple</td>\n",
       "      <td>Mujer</td>\n",
       "      <td>25 a 29</td>\n",
       "      <td>32 a 36</td>\n",
       "      <td>Secundaria/Polimodal Completa</td>\n",
       "      <td>5</td>\n",
       "    </tr>\n",
       "    <tr>\n",
       "      <th>699485</th>\n",
       "      <td>San Juan</td>\n",
       "      <td>Múltiple</td>\n",
       "      <td>Mujer</td>\n",
       "      <td>25 a 29</td>\n",
       "      <td>32 a 36</td>\n",
       "      <td>Secundaria/Polimodal Completa</td>\n",
       "      <td>5</td>\n",
       "    </tr>\n",
       "  </tbody>\n",
       "</table>\n",
       "<p>699486 rows × 7 columns</p>\n",
       "</div>"
      ],
      "text/plain": [
       "       jurisdiccion_de_residencia_nombre tipo_de_parto_nombre sexo_nombre  \\\n",
       "0                                Formosa               Simple       Mujer   \n",
       "1            Ciudad Aut. de Buenos Aires               Simple       Varón   \n",
       "2                           Buenos Aires               Simple       Varón   \n",
       "3                               Santa Fe               Simple       Mujer   \n",
       "4                               San Luis               Simple       Varón   \n",
       "...                                  ...                  ...         ...   \n",
       "699481                          San Juan             Múltiple       Mujer   \n",
       "699482                          San Juan             Múltiple       Mujer   \n",
       "699483                          San Juan             Múltiple       Mujer   \n",
       "699484                          San Juan             Múltiple       Mujer   \n",
       "699485                          San Juan             Múltiple       Mujer   \n",
       "\n",
       "       edad_de_la_madre_grupos_nombre semanas_de_gestacion_nombre  \\\n",
       "0                             25 a 29                     32 a 36   \n",
       "1                             40 a 44                     37 a 41   \n",
       "2                             30 a 34             Sin especificar   \n",
       "3                             35 a 39                     37 a 41   \n",
       "4                             35 a 39                     32 a 36   \n",
       "...                               ...                         ...   \n",
       "699481                        25 a 29                     32 a 36   \n",
       "699482                        25 a 29                     32 a 36   \n",
       "699483                        25 a 29                     32 a 36   \n",
       "699484                        25 a 29                     32 a 36   \n",
       "699485                        25 a 29                     32 a 36   \n",
       "\n",
       "        instruccion_de_la_madre_nombre  Intervalos_de_peso_al_nacer_id  \n",
       "0             Primaria/C. EGB Completa                               5  \n",
       "1             Primaria/C. EGB Completa                               6  \n",
       "2       Terciaria/Universitaria Comple                               4  \n",
       "3       Terciaria/Universitaria Comple                               5  \n",
       "4        Secundaria/Polimodal Completa                               6  \n",
       "...                                ...                             ...  \n",
       "699481   Secundaria/Polimodal Completa                               5  \n",
       "699482   Secundaria/Polimodal Completa                               5  \n",
       "699483   Secundaria/Polimodal Completa                               5  \n",
       "699484   Secundaria/Polimodal Completa                               5  \n",
       "699485   Secundaria/Polimodal Completa                               5  \n",
       "\n",
       "[699486 rows x 7 columns]"
      ]
     },
     "execution_count": 16,
     "metadata": {},
     "output_type": "execute_result"
    }
   ],
   "source": [
    "nacidos_prep = pd.read_csv('export_nacidos_dummies.csv')\n",
    "nacidos_prep"
   ]
  },
  {
   "cell_type": "markdown",
   "metadata": {
    "id": "fG8A4FnFX-x3"
   },
   "source": [
    "Lo que se buscara realizar en este apartado es entrenar un modelo que permita predecir con algunos parametros el peso con el que nacen los bebes.\n"
   ]
  },
  {
   "cell_type": "markdown",
   "metadata": {
    "id": "Ix6msFByh9jR"
   },
   "source": [
    "Dado que todas las variables presentes en el dataset son categóricas se buscará la creación de Dummies Features para entrenar los modelos."
   ]
  },
  {
   "cell_type": "code",
   "execution_count": 17,
   "metadata": {
    "executionInfo": {
     "elapsed": 294295,
     "status": "ok",
     "timestamp": 1605394528610,
     "user": {
      "displayName": "Manuel Sabini",
      "photoUrl": "https://lh3.googleusercontent.com/a-/AOh14GiCw_XqwwTZm4okpuiBiYEiPvsHfM8Viev-QsqNiw=s64",
      "userId": "05853185241662898714"
     },
     "user_tz": 180
    },
    "id": "5krd8kZLh9jS"
   },
   "outputs": [],
   "source": [
    "from sklearn.ensemble import RandomForestClassifier\n",
    "from sklearn.svm import SVC\n",
    "from sklearn.linear_model import SGDClassifier\n",
    "from sklearn.metrics import confusion_matrix, classification_report\n",
    "from sklearn.preprocessing import StandardScaler, LabelEncoder\n",
    "from sklearn.model_selection import train_test_split, GridSearchCV, cross_val_score\n",
    "%matplotlib inline\n",
    "from sklearn.neighbors import KNeighborsClassifier\n",
    "from sklearn.linear_model import LogisticRegression"
   ]
  },
  {
   "cell_type": "markdown",
   "metadata": {},
   "source": [
    "En primera instancia se limpian los registros que no poseen información e indican \"Sin especificar\" y se asignan las labels de bajo peso o peso normal."
   ]
  },
  {
   "cell_type": "code",
   "execution_count": 18,
   "metadata": {},
   "outputs": [
    {
     "data": {
      "text/html": [
       "<div>\n",
       "<style scoped>\n",
       "    .dataframe tbody tr th:only-of-type {\n",
       "        vertical-align: middle;\n",
       "    }\n",
       "\n",
       "    .dataframe tbody tr th {\n",
       "        vertical-align: top;\n",
       "    }\n",
       "\n",
       "    .dataframe thead th {\n",
       "        text-align: right;\n",
       "    }\n",
       "</style>\n",
       "<table border=\"1\" class=\"dataframe\">\n",
       "  <thead>\n",
       "    <tr style=\"text-align: right;\">\n",
       "      <th></th>\n",
       "      <th>tipo_de_parto_nombre</th>\n",
       "      <th>sexo_nombre</th>\n",
       "      <th>edad_de_la_madre_grupos_nombre</th>\n",
       "      <th>semanas_de_gestacion_nombre</th>\n",
       "      <th>instruccion_de_la_madre_nombre</th>\n",
       "      <th>Intervalos_de_peso_al_nacer_id</th>\n",
       "    </tr>\n",
       "  </thead>\n",
       "  <tbody>\n",
       "    <tr>\n",
       "      <th>0</th>\n",
       "      <td>Simple</td>\n",
       "      <td>Mujer</td>\n",
       "      <td>25 a 29</td>\n",
       "      <td>32 a 36</td>\n",
       "      <td>Primaria/C. EGB Completa</td>\n",
       "      <td>5</td>\n",
       "    </tr>\n",
       "    <tr>\n",
       "      <th>1</th>\n",
       "      <td>Simple</td>\n",
       "      <td>Varón</td>\n",
       "      <td>40 a 44</td>\n",
       "      <td>37 a 41</td>\n",
       "      <td>Primaria/C. EGB Completa</td>\n",
       "      <td>6</td>\n",
       "    </tr>\n",
       "    <tr>\n",
       "      <th>3</th>\n",
       "      <td>Simple</td>\n",
       "      <td>Mujer</td>\n",
       "      <td>35 a 39</td>\n",
       "      <td>37 a 41</td>\n",
       "      <td>Terciaria/Universitaria Comple</td>\n",
       "      <td>5</td>\n",
       "    </tr>\n",
       "    <tr>\n",
       "      <th>4</th>\n",
       "      <td>Simple</td>\n",
       "      <td>Varón</td>\n",
       "      <td>35 a 39</td>\n",
       "      <td>32 a 36</td>\n",
       "      <td>Secundaria/Polimodal Completa</td>\n",
       "      <td>6</td>\n",
       "    </tr>\n",
       "    <tr>\n",
       "      <th>5</th>\n",
       "      <td>Simple</td>\n",
       "      <td>Varón</td>\n",
       "      <td>20 a 24</td>\n",
       "      <td>37 a 41</td>\n",
       "      <td>Primaria/C. EGB Incompleta</td>\n",
       "      <td>7</td>\n",
       "    </tr>\n",
       "    <tr>\n",
       "      <th>...</th>\n",
       "      <td>...</td>\n",
       "      <td>...</td>\n",
       "      <td>...</td>\n",
       "      <td>...</td>\n",
       "      <td>...</td>\n",
       "      <td>...</td>\n",
       "    </tr>\n",
       "    <tr>\n",
       "      <th>699481</th>\n",
       "      <td>Múltiple</td>\n",
       "      <td>Mujer</td>\n",
       "      <td>25 a 29</td>\n",
       "      <td>32 a 36</td>\n",
       "      <td>Secundaria/Polimodal Completa</td>\n",
       "      <td>5</td>\n",
       "    </tr>\n",
       "    <tr>\n",
       "      <th>699482</th>\n",
       "      <td>Múltiple</td>\n",
       "      <td>Mujer</td>\n",
       "      <td>25 a 29</td>\n",
       "      <td>32 a 36</td>\n",
       "      <td>Secundaria/Polimodal Completa</td>\n",
       "      <td>5</td>\n",
       "    </tr>\n",
       "    <tr>\n",
       "      <th>699483</th>\n",
       "      <td>Múltiple</td>\n",
       "      <td>Mujer</td>\n",
       "      <td>25 a 29</td>\n",
       "      <td>32 a 36</td>\n",
       "      <td>Secundaria/Polimodal Completa</td>\n",
       "      <td>5</td>\n",
       "    </tr>\n",
       "    <tr>\n",
       "      <th>699484</th>\n",
       "      <td>Múltiple</td>\n",
       "      <td>Mujer</td>\n",
       "      <td>25 a 29</td>\n",
       "      <td>32 a 36</td>\n",
       "      <td>Secundaria/Polimodal Completa</td>\n",
       "      <td>5</td>\n",
       "    </tr>\n",
       "    <tr>\n",
       "      <th>699485</th>\n",
       "      <td>Múltiple</td>\n",
       "      <td>Mujer</td>\n",
       "      <td>25 a 29</td>\n",
       "      <td>32 a 36</td>\n",
       "      <td>Secundaria/Polimodal Completa</td>\n",
       "      <td>5</td>\n",
       "    </tr>\n",
       "  </tbody>\n",
       "</table>\n",
       "<p>628501 rows × 6 columns</p>\n",
       "</div>"
      ],
      "text/plain": [
       "       tipo_de_parto_nombre sexo_nombre edad_de_la_madre_grupos_nombre  \\\n",
       "0                    Simple       Mujer                        25 a 29   \n",
       "1                    Simple       Varón                        40 a 44   \n",
       "3                    Simple       Mujer                        35 a 39   \n",
       "4                    Simple       Varón                        35 a 39   \n",
       "5                    Simple       Varón                        20 a 24   \n",
       "...                     ...         ...                            ...   \n",
       "699481             Múltiple       Mujer                        25 a 29   \n",
       "699482             Múltiple       Mujer                        25 a 29   \n",
       "699483             Múltiple       Mujer                        25 a 29   \n",
       "699484             Múltiple       Mujer                        25 a 29   \n",
       "699485             Múltiple       Mujer                        25 a 29   \n",
       "\n",
       "       semanas_de_gestacion_nombre  instruccion_de_la_madre_nombre  \\\n",
       "0                          32 a 36        Primaria/C. EGB Completa   \n",
       "1                          37 a 41        Primaria/C. EGB Completa   \n",
       "3                          37 a 41  Terciaria/Universitaria Comple   \n",
       "4                          32 a 36   Secundaria/Polimodal Completa   \n",
       "5                          37 a 41      Primaria/C. EGB Incompleta   \n",
       "...                            ...                             ...   \n",
       "699481                     32 a 36   Secundaria/Polimodal Completa   \n",
       "699482                     32 a 36   Secundaria/Polimodal Completa   \n",
       "699483                     32 a 36   Secundaria/Polimodal Completa   \n",
       "699484                     32 a 36   Secundaria/Polimodal Completa   \n",
       "699485                     32 a 36   Secundaria/Polimodal Completa   \n",
       "\n",
       "        Intervalos_de_peso_al_nacer_id  \n",
       "0                                    5  \n",
       "1                                    6  \n",
       "3                                    5  \n",
       "4                                    6  \n",
       "5                                    7  \n",
       "...                                ...  \n",
       "699481                               5  \n",
       "699482                               5  \n",
       "699483                               5  \n",
       "699484                               5  \n",
       "699485                               5  \n",
       "\n",
       "[628501 rows x 6 columns]"
      ]
     },
     "execution_count": 18,
     "metadata": {},
     "output_type": "execute_result"
    }
   ],
   "source": [
    "nacidos_ML=nacidos_prep\n",
    "nacidos_ML=nacidos_ML.drop(nacidos_ML[nacidos_prep[\"sexo_nombre\"] == \"Sin especificar\"].index)\n",
    "nacidos_ML=nacidos_ML.drop(nacidos_ML[nacidos_prep[\"edad_de_la_madre_grupos_nombre\"] == \"Sin especificar\"].index)\n",
    "nacidos_ML=nacidos_ML.drop(nacidos_ML[nacidos_prep[\"semanas_de_gestacion_nombre\"] == \"Sin especificar\"].index)\n",
    "nacidos_ML=nacidos_ML.drop(nacidos_ML[nacidos_prep[\"instruccion_de_la_madre_nombre\"] == \"Sin especificar\"].index)\n",
    "nacidos_ML=nacidos_ML.drop(nacidos_ML[nacidos_prep[\"Intervalos_de_peso_al_nacer_id\"] == 9].index)\n",
    "nacidos_ML=nacidos_ML.drop('jurisdiccion_de_residencia_nombre',axis=1)\n",
    "nacidos_ML"
   ]
  },
  {
   "cell_type": "code",
   "execution_count": 19,
   "metadata": {
    "colab": {
     "base_uri": "https://localhost:8080/"
    },
    "executionInfo": {
     "elapsed": 294275,
     "status": "ok",
     "timestamp": 1605394528612,
     "user": {
      "displayName": "Manuel Sabini",
      "photoUrl": "https://lh3.googleusercontent.com/a-/AOh14GiCw_XqwwTZm4okpuiBiYEiPvsHfM8Viev-QsqNiw=s64",
      "userId": "05853185241662898714"
     },
     "user_tz": 180
    },
    "id": "PYSgAyTbh9jX",
    "outputId": "20a6bd56-1432-4ff8-acb9-b5986b9adee0"
   },
   "outputs": [
    {
     "data": {
      "text/plain": [
       "1    463548\n",
       "0    164953\n",
       "Name: Intervalos_de_peso_al_nacer_id, dtype: int64"
      ]
     },
     "execution_count": 19,
     "metadata": {},
     "output_type": "execute_result"
    }
   ],
   "source": [
    "#Vamos a hacer una clasificacion binaria del peso dividiendo entre bajo y normal\n",
    "bins = (0, 6.5, 10)\n",
    "group_names = ['Bajo', 'Normal']\n",
    "nacidos_ML['Intervalos_de_peso_al_nacer_id'] = pd.cut(nacidos_ML['Intervalos_de_peso_al_nacer_id'], bins = bins, labels = group_names)\n",
    "#Ahora utilizamos el encoder de sklearn\n",
    "label_quality = LabelEncoder() #from sklearn.preprocessing, sirve para transformar los valores entre 0 y n_clases-1\n",
    "#Bajo es 0 y Normal es 1 \n",
    "nacidos_ML['Intervalos_de_peso_al_nacer_id'] = label_quality.fit_transform(nacidos_ML['Intervalos_de_peso_al_nacer_id'])\n",
    "nacidos_ML['Intervalos_de_peso_al_nacer_id'].value_counts()"
   ]
  },
  {
   "cell_type": "markdown",
   "metadata": {
    "id": "qgdR_W8lbjgs"
   },
   "source": [
    "Como podemos observar solo el 26% de los bebes nacen con un peso bajo. Esto podria generar un problema a la hora de entrenar debido que nuestro modelo estara entrenado con muchos mas samples de bebes que tienen un peso adecuado frente a los que tienen dicho problema."
   ]
  },
  {
   "cell_type": "code",
   "execution_count": 20,
   "metadata": {},
   "outputs": [
    {
     "data": {
      "text/html": [
       "<div>\n",
       "<style scoped>\n",
       "    .dataframe tbody tr th:only-of-type {\n",
       "        vertical-align: middle;\n",
       "    }\n",
       "\n",
       "    .dataframe tbody tr th {\n",
       "        vertical-align: top;\n",
       "    }\n",
       "\n",
       "    .dataframe thead th {\n",
       "        text-align: right;\n",
       "    }\n",
       "</style>\n",
       "<table border=\"1\" class=\"dataframe\">\n",
       "  <thead>\n",
       "    <tr style=\"text-align: right;\">\n",
       "      <th></th>\n",
       "      <th>tipo_de_parto_nombre</th>\n",
       "      <th>sexo_nombre</th>\n",
       "      <th>edad_de_la_madre_grupos_nombre</th>\n",
       "      <th>semanas_de_gestacion_nombre</th>\n",
       "      <th>instruccion_de_la_madre_nombre</th>\n",
       "      <th>Intervalos_de_peso_al_nacer_id</th>\n",
       "    </tr>\n",
       "  </thead>\n",
       "  <tbody>\n",
       "    <tr>\n",
       "      <th>0</th>\n",
       "      <td>Simple</td>\n",
       "      <td>Mujer</td>\n",
       "      <td>25 a 29</td>\n",
       "      <td>32 a 36</td>\n",
       "      <td>Primaria/C. EGB Completa</td>\n",
       "      <td>0</td>\n",
       "    </tr>\n",
       "    <tr>\n",
       "      <th>1</th>\n",
       "      <td>Simple</td>\n",
       "      <td>Varón</td>\n",
       "      <td>40 a 44</td>\n",
       "      <td>37 a 41</td>\n",
       "      <td>Primaria/C. EGB Completa</td>\n",
       "      <td>0</td>\n",
       "    </tr>\n",
       "    <tr>\n",
       "      <th>3</th>\n",
       "      <td>Simple</td>\n",
       "      <td>Mujer</td>\n",
       "      <td>35 a 39</td>\n",
       "      <td>37 a 41</td>\n",
       "      <td>Terciaria/Universitaria Comple</td>\n",
       "      <td>0</td>\n",
       "    </tr>\n",
       "    <tr>\n",
       "      <th>4</th>\n",
       "      <td>Simple</td>\n",
       "      <td>Varón</td>\n",
       "      <td>35 a 39</td>\n",
       "      <td>32 a 36</td>\n",
       "      <td>Secundaria/Polimodal Completa</td>\n",
       "      <td>0</td>\n",
       "    </tr>\n",
       "    <tr>\n",
       "      <th>5</th>\n",
       "      <td>Simple</td>\n",
       "      <td>Varón</td>\n",
       "      <td>20 a 24</td>\n",
       "      <td>37 a 41</td>\n",
       "      <td>Primaria/C. EGB Incompleta</td>\n",
       "      <td>1</td>\n",
       "    </tr>\n",
       "  </tbody>\n",
       "</table>\n",
       "</div>"
      ],
      "text/plain": [
       "  tipo_de_parto_nombre sexo_nombre edad_de_la_madre_grupos_nombre  \\\n",
       "0               Simple       Mujer                        25 a 29   \n",
       "1               Simple       Varón                        40 a 44   \n",
       "3               Simple       Mujer                        35 a 39   \n",
       "4               Simple       Varón                        35 a 39   \n",
       "5               Simple       Varón                        20 a 24   \n",
       "\n",
       "  semanas_de_gestacion_nombre  instruccion_de_la_madre_nombre  \\\n",
       "0                     32 a 36        Primaria/C. EGB Completa   \n",
       "1                     37 a 41        Primaria/C. EGB Completa   \n",
       "3                     37 a 41  Terciaria/Universitaria Comple   \n",
       "4                     32 a 36   Secundaria/Polimodal Completa   \n",
       "5                     37 a 41      Primaria/C. EGB Incompleta   \n",
       "\n",
       "   Intervalos_de_peso_al_nacer_id  \n",
       "0                               0  \n",
       "1                               0  \n",
       "3                               0  \n",
       "4                               0  \n",
       "5                               1  "
      ]
     },
     "execution_count": 20,
     "metadata": {},
     "output_type": "execute_result"
    }
   ],
   "source": [
    "nacidos_ML.head()"
   ]
  },
  {
   "cell_type": "code",
   "execution_count": 21,
   "metadata": {},
   "outputs": [],
   "source": [
    "#Genero Dummies para todas las features que utilizaré como independientes\n",
    "tipo_parto = pd.get_dummies(nacidos_ML.tipo_de_parto_nombre)\n",
    "sexo = pd.get_dummies(nacidos_ML.sexo_nombre)\n",
    "edad_madre = pd.get_dummies(nacidos_ML.edad_de_la_madre_grupos_nombre)\n",
    "gestacion = pd.get_dummies(nacidos_ML.semanas_de_gestacion_nombre)\n",
    "instruccion = pd.get_dummies(nacidos_ML.instruccion_de_la_madre_nombre)\n"
   ]
  },
  {
   "cell_type": "code",
   "execution_count": 22,
   "metadata": {},
   "outputs": [
    {
     "data": {
      "text/html": [
       "<div>\n",
       "<style scoped>\n",
       "    .dataframe tbody tr th:only-of-type {\n",
       "        vertical-align: middle;\n",
       "    }\n",
       "\n",
       "    .dataframe tbody tr th {\n",
       "        vertical-align: top;\n",
       "    }\n",
       "\n",
       "    .dataframe thead th {\n",
       "        text-align: right;\n",
       "    }\n",
       "</style>\n",
       "<table border=\"1\" class=\"dataframe\">\n",
       "  <thead>\n",
       "    <tr style=\"text-align: right;\">\n",
       "      <th></th>\n",
       "      <th>Intervalos_de_peso_al_nacer_id</th>\n",
       "      <th>Múltiple</th>\n",
       "      <th>Simple</th>\n",
       "      <th>Indeterminado</th>\n",
       "      <th>Mujer</th>\n",
       "      <th>Varón</th>\n",
       "      <th>15 a 19</th>\n",
       "      <th>20 a 24</th>\n",
       "      <th>25 a 29</th>\n",
       "      <th>30 a 34</th>\n",
       "      <th>...</th>\n",
       "      <th>37 a 41</th>\n",
       "      <th>42 y más</th>\n",
       "      <th>Menos de 22</th>\n",
       "      <th>Primaria/C. EGB Completa</th>\n",
       "      <th>Primaria/C. EGB Incompleta</th>\n",
       "      <th>Secundaria/Polimodal Completa</th>\n",
       "      <th>Secundaria/Polimodal Incomplet</th>\n",
       "      <th>Sin instrucción</th>\n",
       "      <th>Terciaria/Universitaria Comple</th>\n",
       "      <th>Terciaria/Universitaria Incomp</th>\n",
       "    </tr>\n",
       "  </thead>\n",
       "  <tbody>\n",
       "    <tr>\n",
       "      <th>0</th>\n",
       "      <td>0</td>\n",
       "      <td>0</td>\n",
       "      <td>1</td>\n",
       "      <td>0</td>\n",
       "      <td>1</td>\n",
       "      <td>0</td>\n",
       "      <td>0</td>\n",
       "      <td>0</td>\n",
       "      <td>1</td>\n",
       "      <td>0</td>\n",
       "      <td>...</td>\n",
       "      <td>0</td>\n",
       "      <td>0</td>\n",
       "      <td>0</td>\n",
       "      <td>1</td>\n",
       "      <td>0</td>\n",
       "      <td>0</td>\n",
       "      <td>0</td>\n",
       "      <td>0</td>\n",
       "      <td>0</td>\n",
       "      <td>0</td>\n",
       "    </tr>\n",
       "    <tr>\n",
       "      <th>1</th>\n",
       "      <td>0</td>\n",
       "      <td>0</td>\n",
       "      <td>1</td>\n",
       "      <td>0</td>\n",
       "      <td>0</td>\n",
       "      <td>1</td>\n",
       "      <td>0</td>\n",
       "      <td>0</td>\n",
       "      <td>0</td>\n",
       "      <td>0</td>\n",
       "      <td>...</td>\n",
       "      <td>1</td>\n",
       "      <td>0</td>\n",
       "      <td>0</td>\n",
       "      <td>1</td>\n",
       "      <td>0</td>\n",
       "      <td>0</td>\n",
       "      <td>0</td>\n",
       "      <td>0</td>\n",
       "      <td>0</td>\n",
       "      <td>0</td>\n",
       "    </tr>\n",
       "    <tr>\n",
       "      <th>3</th>\n",
       "      <td>0</td>\n",
       "      <td>0</td>\n",
       "      <td>1</td>\n",
       "      <td>0</td>\n",
       "      <td>1</td>\n",
       "      <td>0</td>\n",
       "      <td>0</td>\n",
       "      <td>0</td>\n",
       "      <td>0</td>\n",
       "      <td>0</td>\n",
       "      <td>...</td>\n",
       "      <td>1</td>\n",
       "      <td>0</td>\n",
       "      <td>0</td>\n",
       "      <td>0</td>\n",
       "      <td>0</td>\n",
       "      <td>0</td>\n",
       "      <td>0</td>\n",
       "      <td>0</td>\n",
       "      <td>1</td>\n",
       "      <td>0</td>\n",
       "    </tr>\n",
       "    <tr>\n",
       "      <th>4</th>\n",
       "      <td>0</td>\n",
       "      <td>0</td>\n",
       "      <td>1</td>\n",
       "      <td>0</td>\n",
       "      <td>0</td>\n",
       "      <td>1</td>\n",
       "      <td>0</td>\n",
       "      <td>0</td>\n",
       "      <td>0</td>\n",
       "      <td>0</td>\n",
       "      <td>...</td>\n",
       "      <td>0</td>\n",
       "      <td>0</td>\n",
       "      <td>0</td>\n",
       "      <td>0</td>\n",
       "      <td>0</td>\n",
       "      <td>1</td>\n",
       "      <td>0</td>\n",
       "      <td>0</td>\n",
       "      <td>0</td>\n",
       "      <td>0</td>\n",
       "    </tr>\n",
       "    <tr>\n",
       "      <th>5</th>\n",
       "      <td>1</td>\n",
       "      <td>0</td>\n",
       "      <td>1</td>\n",
       "      <td>0</td>\n",
       "      <td>0</td>\n",
       "      <td>1</td>\n",
       "      <td>0</td>\n",
       "      <td>1</td>\n",
       "      <td>0</td>\n",
       "      <td>0</td>\n",
       "      <td>...</td>\n",
       "      <td>1</td>\n",
       "      <td>0</td>\n",
       "      <td>0</td>\n",
       "      <td>0</td>\n",
       "      <td>1</td>\n",
       "      <td>0</td>\n",
       "      <td>0</td>\n",
       "      <td>0</td>\n",
       "      <td>0</td>\n",
       "      <td>0</td>\n",
       "    </tr>\n",
       "    <tr>\n",
       "      <th>...</th>\n",
       "      <td>...</td>\n",
       "      <td>...</td>\n",
       "      <td>...</td>\n",
       "      <td>...</td>\n",
       "      <td>...</td>\n",
       "      <td>...</td>\n",
       "      <td>...</td>\n",
       "      <td>...</td>\n",
       "      <td>...</td>\n",
       "      <td>...</td>\n",
       "      <td>...</td>\n",
       "      <td>...</td>\n",
       "      <td>...</td>\n",
       "      <td>...</td>\n",
       "      <td>...</td>\n",
       "      <td>...</td>\n",
       "      <td>...</td>\n",
       "      <td>...</td>\n",
       "      <td>...</td>\n",
       "      <td>...</td>\n",
       "      <td>...</td>\n",
       "    </tr>\n",
       "    <tr>\n",
       "      <th>699481</th>\n",
       "      <td>0</td>\n",
       "      <td>1</td>\n",
       "      <td>0</td>\n",
       "      <td>0</td>\n",
       "      <td>1</td>\n",
       "      <td>0</td>\n",
       "      <td>0</td>\n",
       "      <td>0</td>\n",
       "      <td>1</td>\n",
       "      <td>0</td>\n",
       "      <td>...</td>\n",
       "      <td>0</td>\n",
       "      <td>0</td>\n",
       "      <td>0</td>\n",
       "      <td>0</td>\n",
       "      <td>0</td>\n",
       "      <td>1</td>\n",
       "      <td>0</td>\n",
       "      <td>0</td>\n",
       "      <td>0</td>\n",
       "      <td>0</td>\n",
       "    </tr>\n",
       "    <tr>\n",
       "      <th>699482</th>\n",
       "      <td>0</td>\n",
       "      <td>1</td>\n",
       "      <td>0</td>\n",
       "      <td>0</td>\n",
       "      <td>1</td>\n",
       "      <td>0</td>\n",
       "      <td>0</td>\n",
       "      <td>0</td>\n",
       "      <td>1</td>\n",
       "      <td>0</td>\n",
       "      <td>...</td>\n",
       "      <td>0</td>\n",
       "      <td>0</td>\n",
       "      <td>0</td>\n",
       "      <td>0</td>\n",
       "      <td>0</td>\n",
       "      <td>1</td>\n",
       "      <td>0</td>\n",
       "      <td>0</td>\n",
       "      <td>0</td>\n",
       "      <td>0</td>\n",
       "    </tr>\n",
       "    <tr>\n",
       "      <th>699483</th>\n",
       "      <td>0</td>\n",
       "      <td>1</td>\n",
       "      <td>0</td>\n",
       "      <td>0</td>\n",
       "      <td>1</td>\n",
       "      <td>0</td>\n",
       "      <td>0</td>\n",
       "      <td>0</td>\n",
       "      <td>1</td>\n",
       "      <td>0</td>\n",
       "      <td>...</td>\n",
       "      <td>0</td>\n",
       "      <td>0</td>\n",
       "      <td>0</td>\n",
       "      <td>0</td>\n",
       "      <td>0</td>\n",
       "      <td>1</td>\n",
       "      <td>0</td>\n",
       "      <td>0</td>\n",
       "      <td>0</td>\n",
       "      <td>0</td>\n",
       "    </tr>\n",
       "    <tr>\n",
       "      <th>699484</th>\n",
       "      <td>0</td>\n",
       "      <td>1</td>\n",
       "      <td>0</td>\n",
       "      <td>0</td>\n",
       "      <td>1</td>\n",
       "      <td>0</td>\n",
       "      <td>0</td>\n",
       "      <td>0</td>\n",
       "      <td>1</td>\n",
       "      <td>0</td>\n",
       "      <td>...</td>\n",
       "      <td>0</td>\n",
       "      <td>0</td>\n",
       "      <td>0</td>\n",
       "      <td>0</td>\n",
       "      <td>0</td>\n",
       "      <td>1</td>\n",
       "      <td>0</td>\n",
       "      <td>0</td>\n",
       "      <td>0</td>\n",
       "      <td>0</td>\n",
       "    </tr>\n",
       "    <tr>\n",
       "      <th>699485</th>\n",
       "      <td>0</td>\n",
       "      <td>1</td>\n",
       "      <td>0</td>\n",
       "      <td>0</td>\n",
       "      <td>1</td>\n",
       "      <td>0</td>\n",
       "      <td>0</td>\n",
       "      <td>0</td>\n",
       "      <td>1</td>\n",
       "      <td>0</td>\n",
       "      <td>...</td>\n",
       "      <td>0</td>\n",
       "      <td>0</td>\n",
       "      <td>0</td>\n",
       "      <td>0</td>\n",
       "      <td>0</td>\n",
       "      <td>1</td>\n",
       "      <td>0</td>\n",
       "      <td>0</td>\n",
       "      <td>0</td>\n",
       "      <td>0</td>\n",
       "    </tr>\n",
       "  </tbody>\n",
       "</table>\n",
       "<p>628501 rows × 28 columns</p>\n",
       "</div>"
      ],
      "text/plain": [
       "        Intervalos_de_peso_al_nacer_id  Múltiple  Simple  Indeterminado  \\\n",
       "0                                    0         0       1              0   \n",
       "1                                    0         0       1              0   \n",
       "3                                    0         0       1              0   \n",
       "4                                    0         0       1              0   \n",
       "5                                    1         0       1              0   \n",
       "...                                ...       ...     ...            ...   \n",
       "699481                               0         1       0              0   \n",
       "699482                               0         1       0              0   \n",
       "699483                               0         1       0              0   \n",
       "699484                               0         1       0              0   \n",
       "699485                               0         1       0              0   \n",
       "\n",
       "        Mujer  Varón  15 a 19  20 a 24  25 a 29  30 a 34  ...  37 a 41  \\\n",
       "0           1      0        0        0        1        0  ...        0   \n",
       "1           0      1        0        0        0        0  ...        1   \n",
       "3           1      0        0        0        0        0  ...        1   \n",
       "4           0      1        0        0        0        0  ...        0   \n",
       "5           0      1        0        1        0        0  ...        1   \n",
       "...       ...    ...      ...      ...      ...      ...  ...      ...   \n",
       "699481      1      0        0        0        1        0  ...        0   \n",
       "699482      1      0        0        0        1        0  ...        0   \n",
       "699483      1      0        0        0        1        0  ...        0   \n",
       "699484      1      0        0        0        1        0  ...        0   \n",
       "699485      1      0        0        0        1        0  ...        0   \n",
       "\n",
       "        42 y más  Menos de 22  Primaria/C. EGB Completa  \\\n",
       "0              0            0                         1   \n",
       "1              0            0                         1   \n",
       "3              0            0                         0   \n",
       "4              0            0                         0   \n",
       "5              0            0                         0   \n",
       "...          ...          ...                       ...   \n",
       "699481         0            0                         0   \n",
       "699482         0            0                         0   \n",
       "699483         0            0                         0   \n",
       "699484         0            0                         0   \n",
       "699485         0            0                         0   \n",
       "\n",
       "        Primaria/C. EGB Incompleta  Secundaria/Polimodal Completa  \\\n",
       "0                                0                              0   \n",
       "1                                0                              0   \n",
       "3                                0                              0   \n",
       "4                                0                              1   \n",
       "5                                1                              0   \n",
       "...                            ...                            ...   \n",
       "699481                           0                              1   \n",
       "699482                           0                              1   \n",
       "699483                           0                              1   \n",
       "699484                           0                              1   \n",
       "699485                           0                              1   \n",
       "\n",
       "        Secundaria/Polimodal Incomplet  Sin instrucción  \\\n",
       "0                                    0                0   \n",
       "1                                    0                0   \n",
       "3                                    0                0   \n",
       "4                                    0                0   \n",
       "5                                    0                0   \n",
       "...                                ...              ...   \n",
       "699481                               0                0   \n",
       "699482                               0                0   \n",
       "699483                               0                0   \n",
       "699484                               0                0   \n",
       "699485                               0                0   \n",
       "\n",
       "        Terciaria/Universitaria Comple  Terciaria/Universitaria Incomp  \n",
       "0                                    0                               0  \n",
       "1                                    0                               0  \n",
       "3                                    1                               0  \n",
       "4                                    0                               0  \n",
       "5                                    0                               0  \n",
       "...                                ...                             ...  \n",
       "699481                               0                               0  \n",
       "699482                               0                               0  \n",
       "699483                               0                               0  \n",
       "699484                               0                               0  \n",
       "699485                               0                               0  \n",
       "\n",
       "[628501 rows x 28 columns]"
      ]
     },
     "execution_count": 22,
     "metadata": {},
     "output_type": "execute_result"
    }
   ],
   "source": [
    "#Concateno el dataframe original con el dataframe generado con dummies\n",
    "nacidos_dummies = pd.concat([nacidos_ML,tipo_parto, sexo, edad_madre, gestacion, instruccion], axis=1)\n",
    "nacidos_dummies = nacidos_dummies.drop(['tipo_de_parto_nombre','sexo_nombre','edad_de_la_madre_grupos_nombre','semanas_de_gestacion_nombre','instruccion_de_la_madre_nombre'], axis = 1)\n",
    "nacidos_dummies"
   ]
  },
  {
   "cell_type": "markdown",
   "metadata": {
    "id": "8VG4eDWNc0iY"
   },
   "source": [
    "Por la cantidad de recursos de computo que se requieren para realizar el aprendizaje con mas de 600000 samples, decidimos solo entrenar con 5000 elegidas al azar dentro del Dataset."
   ]
  },
  {
   "cell_type": "code",
   "execution_count": 23,
   "metadata": {
    "executionInfo": {
     "elapsed": 294233,
     "status": "ok",
     "timestamp": 1605394528623,
     "user": {
      "displayName": "Manuel Sabini",
      "photoUrl": "https://lh3.googleusercontent.com/a-/AOh14GiCw_XqwwTZm4okpuiBiYEiPvsHfM8Viev-QsqNiw=s64",
      "userId": "05853185241662898714"
     },
     "user_tz": 180
    },
    "id": "Cdx1J4wHWLKS"
   },
   "outputs": [
    {
     "data": {
      "text/plain": [
       "(5000, 28)"
      ]
     },
     "execution_count": 23,
     "metadata": {},
     "output_type": "execute_result"
    }
   ],
   "source": [
    "nacidos_muestra = nacidos_dummies.sample(n=5000, axis=0, random_state=13)\n",
    "nacidos_muestra.shape"
   ]
  },
  {
   "cell_type": "markdown",
   "metadata": {
    "id": "DNROKT6YdQ5v"
   },
   "source": [
    "De esas 5000 las etiquetas que aparecen son las siguientes."
   ]
  },
  {
   "cell_type": "code",
   "execution_count": 24,
   "metadata": {
    "colab": {
     "base_uri": "https://localhost:8080/"
    },
    "executionInfo": {
     "elapsed": 294218,
     "status": "ok",
     "timestamp": 1605394528625,
     "user": {
      "displayName": "Manuel Sabini",
      "photoUrl": "https://lh3.googleusercontent.com/a-/AOh14GiCw_XqwwTZm4okpuiBiYEiPvsHfM8Viev-QsqNiw=s64",
      "userId": "05853185241662898714"
     },
     "user_tz": 180
    },
    "id": "gFVnsCk5bUby",
    "outputId": "833f5cd6-fa64-4c73-f838-054b3ec50a9e"
   },
   "outputs": [
    {
     "data": {
      "text/plain": [
       "1    3695\n",
       "0    1305\n",
       "Name: Intervalos_de_peso_al_nacer_id, dtype: int64"
      ]
     },
     "execution_count": 24,
     "metadata": {},
     "output_type": "execute_result"
    }
   ],
   "source": [
    "nacidos_muestra['Intervalos_de_peso_al_nacer_id'].value_counts()"
   ]
  },
  {
   "cell_type": "markdown",
   "metadata": {},
   "source": [
    "## Clasificación de los pesos"
   ]
  },
  {
   "cell_type": "markdown",
   "metadata": {
    "id": "R00bGTi8dgMy"
   },
   "source": [
    "Dividimos en Train y test, scalamos y entrenamos con diferentes modelos.\n",
    "Los Features con las que entrenaremos son:\n",
    "\n",
    "*   Edad de la madre\n",
    "*   Semana de gestacion a la hora de nacer\n",
    "*   Instruccion de la madre\n",
    "*   Sexo\n",
    "*   Tipo de parto\n",
    "\n"
   ]
  },
  {
   "cell_type": "code",
   "execution_count": 25,
   "metadata": {
    "executionInfo": {
     "elapsed": 294214,
     "status": "ok",
     "timestamp": 1605394528628,
     "user": {
      "displayName": "Manuel Sabini",
      "photoUrl": "https://lh3.googleusercontent.com/a-/AOh14GiCw_XqwwTZm4okpuiBiYEiPvsHfM8Viev-QsqNiw=s64",
      "userId": "05853185241662898714"
     },
     "user_tz": 180
    },
    "id": "lBRJHByzh9jb"
   },
   "outputs": [],
   "source": [
    "X = nacidos_muestra.drop('Intervalos_de_peso_al_nacer_id', axis = 1)\n",
    "y = nacidos_muestra['Intervalos_de_peso_al_nacer_id']"
   ]
  },
  {
   "cell_type": "code",
   "execution_count": 26,
   "metadata": {
    "executionInfo": {
     "elapsed": 294216,
     "status": "ok",
     "timestamp": 1605394528634,
     "user": {
      "displayName": "Manuel Sabini",
      "photoUrl": "https://lh3.googleusercontent.com/a-/AOh14GiCw_XqwwTZm4okpuiBiYEiPvsHfM8Viev-QsqNiw=s64",
      "userId": "05853185241662898714"
     },
     "user_tz": 180
    },
    "id": "vrAcL-iLh9je"
   },
   "outputs": [],
   "source": [
    "#Separamos en train y test\n",
    "X_train, X_test, y_train, y_test = train_test_split(X, y, test_size = 0.50, random_state = 14)"
   ]
  },
  {
   "cell_type": "code",
   "execution_count": 27,
   "metadata": {
    "executionInfo": {
     "elapsed": 294212,
     "status": "ok",
     "timestamp": 1605394528638,
     "user": {
      "displayName": "Manuel Sabini",
      "photoUrl": "https://lh3.googleusercontent.com/a-/AOh14GiCw_XqwwTZm4okpuiBiYEiPvsHfM8Viev-QsqNiw=s64",
      "userId": "05853185241662898714"
     },
     "user_tz": 180
    },
    "id": "fzaRz9amh9ji"
   },
   "outputs": [],
   "source": [
    "#Aplicamos standard scaler para optimizar los resultados\n",
    "sc = StandardScaler()\n",
    "X_train = sc.fit_transform(X_train)\n",
    "X_test = sc.fit_transform(X_test)"
   ]
  },
  {
   "cell_type": "markdown",
   "metadata": {
    "id": "_DVgDKnHhT79"
   },
   "source": [
    "#### SVM"
   ]
  },
  {
   "cell_type": "code",
   "execution_count": 28,
   "metadata": {
    "id": "SKvLrLzjpwrd"
   },
   "outputs": [
    {
     "data": {
      "text/plain": [
       "GridSearchCV(cv=4, estimator=SVC(),\n",
       "             param_grid={'C': [1, 10, 100, 1000],\n",
       "                         'gamma': [0.0001, 0.001, 0.01, 0.1, 1, 10, 100],\n",
       "                         'kernel': ['rbf']},\n",
       "             scoring='accuracy')"
      ]
     },
     "execution_count": 28,
     "metadata": {},
     "output_type": "execute_result"
    }
   ],
   "source": [
    "#Buscamos mejores parametros usando CV\n",
    "svc = SVC()\n",
    "param = {\n",
    "    'C': [1, 10, 100, 1000],\n",
    "    'kernel':['rbf'],\n",
    "    'gamma' :[0.0001,0.001, 0.01, 0.1,1, 10,100]\n",
    "}\n",
    "grid_svc = GridSearchCV(svc, param_grid=param, scoring='accuracy', cv=4)\n",
    "grid_svc.fit(X_train, y_train)"
   ]
  },
  {
   "cell_type": "code",
   "execution_count": 29,
   "metadata": {
    "id": "du3jlTEBqsr7"
   },
   "outputs": [
    {
     "data": {
      "text/plain": [
       "{'C': 10, 'gamma': 0.001, 'kernel': 'rbf'}"
      ]
     },
     "execution_count": 29,
     "metadata": {},
     "output_type": "execute_result"
    }
   ],
   "source": [
    "grid_svc.best_params_"
   ]
  },
  {
   "cell_type": "code",
   "execution_count": 30,
   "metadata": {
    "id": "dRGU4xv3hs7h"
   },
   "outputs": [
    {
     "name": "stdout",
     "output_type": "stream",
     "text": [
      "              precision    recall  f1-score   support\n",
      "\n",
      "           0       0.84      0.34      0.49       635\n",
      "           1       0.81      0.98      0.89      1865\n",
      "\n",
      "    accuracy                           0.82      2500\n",
      "   macro avg       0.82      0.66      0.69      2500\n",
      "weighted avg       0.82      0.82      0.79      2500\n",
      "\n"
     ]
    }
   ],
   "source": [
    "pred_svc_cv =grid_svc.predict(X_test)\n",
    "print(classification_report(y_test, pred_svc_cv))"
   ]
  },
  {
   "cell_type": "code",
   "execution_count": 31,
   "metadata": {
    "id": "MAJfV8jKhxmc"
   },
   "outputs": [
    {
     "data": {
      "image/png": "[encoded data removed]",
      "text/plain": [
       "<Figure size 432x288 with 2 Axes>"
      ]
     },
     "metadata": {
      "needs_background": "light"
     },
     "output_type": "display_data"
    }
   ],
   "source": [
    "cm_svm_gs =confusion_matrix(y_test, pred_svc_cv)\n",
    "confmat = pd.DataFrame(cm_svm_gs, index = ['Bajo', 'Normal'], columns = ['Bajo', 'Normal'])\n",
    "plt.figure(figsize = (6,4))\n",
    "sns.heatmap(confmat, annot=True,cmap='YlGnBu', fmt=\"d\")\n",
    "plt.title('Matriz de Confusion SVM+CV')\n",
    "plt.show()"
   ]
  },
  {
   "cell_type": "code",
   "execution_count": 32,
   "metadata": {},
   "outputs": [
    {
     "data": {
      "text/plain": [
       "array([[ 219,  416],\n",
       "       [  43, 1822]], dtype=int64)"
      ]
     },
     "execution_count": 32,
     "metadata": {},
     "output_type": "execute_result"
    }
   ],
   "source": [
    "cm_svm_gs"
   ]
  },
  {
   "cell_type": "markdown",
   "metadata": {},
   "source": [
    "#### Metodo KNN"
   ]
  },
  {
   "cell_type": "code",
   "execution_count": 33,
   "metadata": {},
   "outputs": [],
   "source": [
    "parameters = {'n_neighbors':[1, 3, 5, 10, 25, 50]}\n",
    "knn = KNeighborsClassifier()\n",
    "clf_knn = GridSearchCV(knn, param_grid = parameters, refit= True, cv = 5)\n",
    "\n",
    "clf_knn.fit(X_train, y_train)\n",
    "ypred_knn_gs=clf_knn.predict(X_test)"
   ]
  },
  {
   "cell_type": "code",
   "execution_count": 34,
   "metadata": {
    "scrolled": false
   },
   "outputs": [
    {
     "name": "stdout",
     "output_type": "stream",
     "text": [
      "              precision    recall  f1-score   support\n",
      "\n",
      "           0       0.85      0.34      0.48       635\n",
      "           1       0.81      0.98      0.89      1865\n",
      "\n",
      "    accuracy                           0.82      2500\n",
      "   macro avg       0.83      0.66      0.69      2500\n",
      "weighted avg       0.82      0.82      0.79      2500\n",
      "\n"
     ]
    }
   ],
   "source": [
    "print(classification_report(y_test, ypred_knn_gs))"
   ]
  },
  {
   "cell_type": "markdown",
   "metadata": {},
   "source": [
    "Hacemos una matriz de confusion para ver los resultados obtenidos, armamos un reporte y vemos con cuantos K vecinos se obtuvieron los mejores resultados."
   ]
  },
  {
   "cell_type": "code",
   "execution_count": 35,
   "metadata": {},
   "outputs": [
    {
     "data": {
      "text/plain": [
       "{'n_neighbors': 25}"
      ]
     },
     "execution_count": 35,
     "metadata": {},
     "output_type": "execute_result"
    }
   ],
   "source": [
    "#cantidad de vecinos\n",
    "clf_knn.best_params_"
   ]
  },
  {
   "cell_type": "code",
   "execution_count": 36,
   "metadata": {},
   "outputs": [
    {
     "data": {
      "image/png": "[encoded data removed]",
      "text/plain": [
       "<Figure size 432x288 with 2 Axes>"
      ]
     },
     "metadata": {
      "needs_background": "light"
     },
     "output_type": "display_data"
    }
   ],
   "source": [
    "cm_knn = confusion_matrix(y_test, ypred_knn_gs)\n",
    "confmat = pd.DataFrame(cm_knn, index = ['Bajo', 'Normal'], columns = ['Bajo', 'Normal'])\n",
    "plt.figure(figsize = (6,4))\n",
    "sns.heatmap(confmat, annot=True,cmap='YlGnBu', fmt=\"d\")\n",
    "plt.title('Matriz de confusion KNN+CV')\n",
    "plt.show()"
   ]
  },
  {
   "cell_type": "code",
   "execution_count": 37,
   "metadata": {},
   "outputs": [
    {
     "data": {
      "text/plain": [
       "array([[ 214,  421],\n",
       "       [  38, 1827]], dtype=int64)"
      ]
     },
     "execution_count": 37,
     "metadata": {},
     "output_type": "execute_result"
    }
   ],
   "source": [
    "cm_knn"
   ]
  },
  {
   "cell_type": "markdown",
   "metadata": {},
   "source": [
    "#### Logistic Regresion"
   ]
  },
  {
   "cell_type": "code",
   "execution_count": 38,
   "metadata": {},
   "outputs": [],
   "source": [
    "parameters = {'C':[1, 10, 100, 1000]}\n",
    "lr_model = LogisticRegression(random_state=0, solver='lbfgs')\n",
    "clf_lr = GridSearchCV(lr_model, param_grid = parameters, refit = True, cv = 5)"
   ]
  },
  {
   "cell_type": "code",
   "execution_count": 39,
   "metadata": {
    "scrolled": true
   },
   "outputs": [
    {
     "name": "stdout",
     "output_type": "stream",
     "text": [
      "              precision    recall  f1-score   support\n",
      "\n",
      "           0       0.84      0.34      0.49       635\n",
      "           1       0.81      0.98      0.89      1865\n",
      "\n",
      "    accuracy                           0.82      2500\n",
      "   macro avg       0.82      0.66      0.69      2500\n",
      "weighted avg       0.82      0.82      0.79      2500\n",
      "\n"
     ]
    }
   ],
   "source": [
    "clf_lr.fit(X_train, y_train)\n",
    "ypred_lr_gs=clf_lr.predict(X_test)\n",
    "print(classification_report(y_test, ypred_lr_gs))"
   ]
  },
  {
   "cell_type": "code",
   "execution_count": 40,
   "metadata": {
    "scrolled": false
   },
   "outputs": [
    {
     "data": {
      "image/png": "[encoded data removed]",
      "text/plain": [
       "<Figure size 432x288 with 2 Axes>"
      ]
     },
     "metadata": {
      "needs_background": "light"
     },
     "output_type": "display_data"
    }
   ],
   "source": [
    "cm_lr_gs = confusion_matrix(y_test, ypred_lr_gs)\n",
    "confmat = pd.DataFrame(cm_lr_gs, index = ['Bajo', 'Normal'], columns = ['Bajo', 'Normal'])\n",
    "plt.figure(figsize = (6,4))\n",
    "sns.heatmap(confmat, annot=True, cmap='YlGnBu', fmt=\"d\")\n",
    "plt.title('Matriz de confusion LR+CV')\n",
    "plt.show()"
   ]
  },
  {
   "cell_type": "code",
   "execution_count": 41,
   "metadata": {
    "scrolled": false
   },
   "outputs": [
    {
     "data": {
      "text/plain": [
       "array([[ 218,  417],\n",
       "       [  43, 1822]], dtype=int64)"
      ]
     },
     "execution_count": 41,
     "metadata": {},
     "output_type": "execute_result"
    }
   ],
   "source": [
    "cm_lr_gs"
   ]
  },
  {
   "cell_type": "code",
   "execution_count": null,
   "metadata": {},
   "outputs": [],
   "source": []
  }
 ],
 "metadata": {
  "colab": {
   "name": "clusterai_TP_eda+SVM.ipynb",
   "provenance": []
  },
  "kernelspec": {
   "display_name": "Python 3",
   "language": "python",
   "name": "python3"
  },
  "language_info": {
   "codemirror_mode": {
    "name": "ipython",
    "version": 3
   },
   "file_extension": ".py",
   "mimetype": "text/x-python",
   "name": "python",
   "nbconvert_exporter": "python",
   "pygments_lexer": "ipython3",
   "version": "3.8.3"
  }
 },
 "nbformat": 4,
 "nbformat_minor": 1
}
