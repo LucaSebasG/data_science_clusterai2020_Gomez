{
 "cells": [
  {
   "cell_type": "markdown",
   "metadata": {},
   "source": [
    "# ClusterAI 2020\n",
    "# Ciencia de Datos - Ingenieria Industrial UTN BA\n",
    "# Curso I5521\n",
    "# EDA: Nacidos Vivos registrados año 2018"
   ]
  },
  {
   "cell_type": "markdown",
   "metadata": {},
   "source": [
    "### Librerias"
   ]
  },
  {
   "cell_type": "code",
   "execution_count": 1,
   "metadata": {},
   "outputs": [],
   "source": [
    "#Importar paquetes de herramientas:\n",
    "\n",
    "#Datos\n",
    "import pandas as pd\n",
    "import numpy as np\n",
    "#Graficos \n",
    "import matplotlib.pyplot as plt\n",
    "import seaborn as sns"
   ]
  },
  {
   "cell_type": "markdown",
   "metadata": {},
   "source": [
    "### Dataset"
   ]
  },
  {
   "cell_type": "code",
   "execution_count": 2,
   "metadata": {},
   "outputs": [
    {
     "name": "stdout",
     "output_type": "stream",
     "text": [
      " Volume in drive C is OS\n",
      " Volume Serial Number is 1001-875D\n",
      "\n",
      " Directory of C:\\Users\\60065215\\Desktop\\Facultad\\Ciencia de Datos\\TP Grupal\\TP\n",
      "\n",
      "10/18/2020  07:35 PM    <DIR>          .\n",
      "10/18/2020  07:35 PM    <DIR>          ..\n",
      "10/18/2020  07:29 PM    <DIR>          .ipynb_checkpoints\n",
      "10/18/2020  07:35 PM             2,454 clusterai_Lucas_Gomez_eda.ipynb\n",
      "10/05/2020  09:36 PM           606,065 nacidos_vivos_segun_peso.csv\n",
      "10/17/2020  12:24 PM         3,464,459 nacidos-vivos-registrados-2018_deis.csv\n",
      "10/17/2020  09:20 AM            33,785 TP Anual.ipynb\n",
      "10/18/2020  07:23 PM                 0 untitled.txt\n",
      "               5 File(s)      4,106,763 bytes\n",
      "               3 Dir(s)  361,963,950,080 bytes free\n"
     ]
    }
   ],
   "source": [
    "ls"
   ]
  },
  {
   "cell_type": "code",
   "execution_count": 7,
   "metadata": {},
   "outputs": [],
   "source": [
    "#Importamos el Dataset\n",
    "nacidos = pd.read_csv('nacidos-vivos-registrados-2018_deis.csv', delimiter = ',')"
   ]
  },
  {
   "cell_type": "code",
   "execution_count": 8,
   "metadata": {},
   "outputs": [
    {
     "data": {
      "text/html": [
       "<div>\n",
       "<style scoped>\n",
       "    .dataframe tbody tr th:only-of-type {\n",
       "        vertical-align: middle;\n",
       "    }\n",
       "\n",
       "    .dataframe tbody tr th {\n",
       "        vertical-align: top;\n",
       "    }\n",
       "\n",
       "    .dataframe thead th {\n",
       "        text-align: right;\n",
       "    }\n",
       "</style>\n",
       "<table border=\"1\" class=\"dataframe\">\n",
       "  <thead>\n",
       "    <tr style=\"text-align: right;\">\n",
       "      <th></th>\n",
       "      <th>jurisdiccion_de_residencia_id</th>\n",
       "      <th>jurisdiccion_de_residencia_nombre</th>\n",
       "      <th>tipo_de_parto_id</th>\n",
       "      <th>tipo_de_parto_nombre</th>\n",
       "      <th>sexo</th>\n",
       "      <th>sexo_nombre</th>\n",
       "      <th>edad_de_la_madre_grupos_id</th>\n",
       "      <th>edad_de_la_madre_grupos_nombre</th>\n",
       "      <th>semanas_de_gestacion_id</th>\n",
       "      <th>semanas_de_gestacion_nombre</th>\n",
       "      <th>instruccion_de_la_madre_id</th>\n",
       "      <th>instruccion_de_la_madre_nombre</th>\n",
       "      <th>Intervalos_de_peso_al_nacer_id</th>\n",
       "      <th>intervalos_de_peso_al_nacer_nombre</th>\n",
       "      <th>cantidad_nacimientos</th>\n",
       "    </tr>\n",
       "  </thead>\n",
       "  <tbody>\n",
       "    <tr>\n",
       "      <th>0</th>\n",
       "      <td>34</td>\n",
       "      <td>Formosa</td>\n",
       "      <td>1</td>\n",
       "      <td>Simple</td>\n",
       "      <td>2</td>\n",
       "      <td>Mujer</td>\n",
       "      <td>4</td>\n",
       "      <td>25 a 29</td>\n",
       "      <td>5</td>\n",
       "      <td>32 a 36</td>\n",
       "      <td>3</td>\n",
       "      <td>Primaria/C. EGB Completa</td>\n",
       "      <td>5</td>\n",
       "      <td>2000 a 2499</td>\n",
       "      <td>3</td>\n",
       "    </tr>\n",
       "    <tr>\n",
       "      <th>1</th>\n",
       "      <td>2</td>\n",
       "      <td>Ciudad Aut. de Buenos Aires</td>\n",
       "      <td>1</td>\n",
       "      <td>Simple</td>\n",
       "      <td>1</td>\n",
       "      <td>Varón</td>\n",
       "      <td>7</td>\n",
       "      <td>40 a 44</td>\n",
       "      <td>6</td>\n",
       "      <td>37 a 41</td>\n",
       "      <td>3</td>\n",
       "      <td>Primaria/C. EGB Completa</td>\n",
       "      <td>6</td>\n",
       "      <td>2500 a 2999</td>\n",
       "      <td>13</td>\n",
       "    </tr>\n",
       "    <tr>\n",
       "      <th>2</th>\n",
       "      <td>6</td>\n",
       "      <td>Buenos Aires</td>\n",
       "      <td>1</td>\n",
       "      <td>Simple</td>\n",
       "      <td>1</td>\n",
       "      <td>Varón</td>\n",
       "      <td>5</td>\n",
       "      <td>30 a 34</td>\n",
       "      <td>8</td>\n",
       "      <td>Sin especificar</td>\n",
       "      <td>7</td>\n",
       "      <td>Terciaria/Universitaria Comple</td>\n",
       "      <td>4</td>\n",
       "      <td>1500 a 1999</td>\n",
       "      <td>1</td>\n",
       "    </tr>\n",
       "    <tr>\n",
       "      <th>3</th>\n",
       "      <td>82</td>\n",
       "      <td>Santa Fe</td>\n",
       "      <td>1</td>\n",
       "      <td>Simple</td>\n",
       "      <td>2</td>\n",
       "      <td>Mujer</td>\n",
       "      <td>6</td>\n",
       "      <td>35 a 39</td>\n",
       "      <td>6</td>\n",
       "      <td>37 a 41</td>\n",
       "      <td>7</td>\n",
       "      <td>Terciaria/Universitaria Comple</td>\n",
       "      <td>5</td>\n",
       "      <td>2000 a 2499</td>\n",
       "      <td>30</td>\n",
       "    </tr>\n",
       "    <tr>\n",
       "      <th>4</th>\n",
       "      <td>74</td>\n",
       "      <td>San Luis</td>\n",
       "      <td>1</td>\n",
       "      <td>Simple</td>\n",
       "      <td>1</td>\n",
       "      <td>Varón</td>\n",
       "      <td>6</td>\n",
       "      <td>35 a 39</td>\n",
       "      <td>5</td>\n",
       "      <td>32 a 36</td>\n",
       "      <td>5</td>\n",
       "      <td>Secundaria/Polimodal Completa</td>\n",
       "      <td>6</td>\n",
       "      <td>2500 a 2999</td>\n",
       "      <td>4</td>\n",
       "    </tr>\n",
       "  </tbody>\n",
       "</table>\n",
       "</div>"
      ],
      "text/plain": [
       "   jurisdiccion_de_residencia_id jurisdiccion_de_residencia_nombre  \\\n",
       "0                             34                           Formosa   \n",
       "1                              2       Ciudad Aut. de Buenos Aires   \n",
       "2                              6                      Buenos Aires   \n",
       "3                             82                          Santa Fe   \n",
       "4                             74                          San Luis   \n",
       "\n",
       "   tipo_de_parto_id tipo_de_parto_nombre  sexo sexo_nombre  \\\n",
       "0                 1               Simple     2       Mujer   \n",
       "1                 1               Simple     1       Varón   \n",
       "2                 1               Simple     1       Varón   \n",
       "3                 1               Simple     2       Mujer   \n",
       "4                 1               Simple     1       Varón   \n",
       "\n",
       "   edad_de_la_madre_grupos_id edad_de_la_madre_grupos_nombre  \\\n",
       "0                           4                        25 a 29   \n",
       "1                           7                        40 a 44   \n",
       "2                           5                        30 a 34   \n",
       "3                           6                        35 a 39   \n",
       "4                           6                        35 a 39   \n",
       "\n",
       "   semanas_de_gestacion_id semanas_de_gestacion_nombre  \\\n",
       "0                        5                     32 a 36   \n",
       "1                        6                     37 a 41   \n",
       "2                        8             Sin especificar   \n",
       "3                        6                     37 a 41   \n",
       "4                        5                     32 a 36   \n",
       "\n",
       "   instruccion_de_la_madre_id  instruccion_de_la_madre_nombre  \\\n",
       "0                           3        Primaria/C. EGB Completa   \n",
       "1                           3        Primaria/C. EGB Completa   \n",
       "2                           7  Terciaria/Universitaria Comple   \n",
       "3                           7  Terciaria/Universitaria Comple   \n",
       "4                           5   Secundaria/Polimodal Completa   \n",
       "\n",
       "   Intervalos_de_peso_al_nacer_id intervalos_de_peso_al_nacer_nombre  \\\n",
       "0                               5                        2000 a 2499   \n",
       "1                               6                        2500 a 2999   \n",
       "2                               4                        1500 a 1999   \n",
       "3                               5                        2000 a 2499   \n",
       "4                               6                        2500 a 2999   \n",
       "\n",
       "   cantidad_nacimientos  \n",
       "0                     3  \n",
       "1                    13  \n",
       "2                     1  \n",
       "3                    30  \n",
       "4                     4  "
      ]
     },
     "execution_count": 8,
     "metadata": {},
     "output_type": "execute_result"
    }
   ],
   "source": [
    "#Visualizamos las primeras líneas del Dataset\n",
    "nacidos.head()"
   ]
  },
  {
   "cell_type": "code",
   "execution_count": 9,
   "metadata": {},
   "outputs": [
    {
     "name": "stdout",
     "output_type": "stream",
     "text": [
      "El dataset importado tiene 30099 renglones y 15 columnas\n"
     ]
    }
   ],
   "source": [
    "#Vemos cuántas filas y columnas tiene\n",
    "# Ver que utilizamos la función de numpy \"shape\".\n",
    "print(\"El dataset importado tiene \"+ str(np.shape(nacidos)[0]) + \" renglones y \" + str(np.shape(nacidos)[1]) + \" columnas\")"
   ]
  },
  {
   "cell_type": "code",
   "execution_count": 10,
   "metadata": {},
   "outputs": [
    {
     "data": {
      "text/plain": [
       "jurisdiccion_de_residencia_id         False\n",
       "jurisdiccion_de_residencia_nombre     False\n",
       "tipo_de_parto_id                      False\n",
       "tipo_de_parto_nombre                  False\n",
       "sexo                                  False\n",
       "sexo_nombre                           False\n",
       "edad_de_la_madre_grupos_id            False\n",
       "edad_de_la_madre_grupos_nombre        False\n",
       "semanas_de_gestacion_id               False\n",
       "semanas_de_gestacion_nombre           False\n",
       "instruccion_de_la_madre_id            False\n",
       "instruccion_de_la_madre_nombre        False\n",
       "Intervalos_de_peso_al_nacer_id        False\n",
       "intervalos_de_peso_al_nacer_nombre    False\n",
       "cantidad_nacimientos                  False\n",
       "dtype: bool"
      ]
     },
     "execution_count": 10,
     "metadata": {},
     "output_type": "execute_result"
    }
   ],
   "source": [
    "# Verificamos si hay valores nulos en el Dataset\n",
    "col_nulls = nacidos.isnull().any()\n",
    "col_nulls"
   ]
  },
  {
   "cell_type": "code",
   "execution_count": 12,
   "metadata": {},
   "outputs": [
    {
     "data": {
      "text/plain": [
       "Index(['jurisdiccion_de_residencia_id', 'jurisdiccion_de_residencia_nombre',\n",
       "       'tipo_de_parto_id', 'tipo_de_parto_nombre', 'sexo', 'sexo_nombre',\n",
       "       'edad_de_la_madre_grupos_id', 'edad_de_la_madre_grupos_nombre',\n",
       "       'semanas_de_gestacion_id', 'semanas_de_gestacion_nombre',\n",
       "       'instruccion_de_la_madre_id', 'instruccion_de_la_madre_nombre',\n",
       "       'Intervalos_de_peso_al_nacer_id', 'intervalos_de_peso_al_nacer_nombre',\n",
       "       'cantidad_nacimientos'],\n",
       "      dtype='object')"
      ]
     },
     "execution_count": 12,
     "metadata": {},
     "output_type": "execute_result"
    }
   ],
   "source": [
    "# Me guardo en un array los nombres de las columnas\n",
    "columns_nacidos = nacidos.columns\n",
    "columns_nacidos"
   ]
  },
  {
   "cell_type": "code",
   "execution_count": 69,
   "metadata": {},
   "outputs": [
    {
     "name": "stdout",
     "output_type": "stream",
     "text": [
      "La columna jurisdiccion_de_residencia_id tiene 26 valores distintos\n",
      "Los valores son: \n",
      "[34  2  6 82 74 99 66 58 62 54 90 78 10 86 22 46 42 38 30 50 26 18 14 70\n",
      " 94 98]\n",
      "\n",
      "La columna jurisdiccion_de_residencia_nombre tiene 26 valores distintos\n",
      "Los valores son: \n",
      "['Formosa' 'Ciudad Aut. de Buenos Aires' 'Buenos Aires' 'Santa Fe'\n",
      " 'San Luis' 'Lugar no especificado' 'Salta' 'Neuquén' 'Río Negro'\n",
      " 'Misiones' 'Tucumán' 'Santa Cruz' 'Catamarca' 'Santiago del Estero'\n",
      " 'Chaco' 'La Rioja' 'La Pampa' 'Jujuy' 'Entre Ríos' 'Mendoza' 'Chubut'\n",
      " 'Corrientes' 'Córdoba' 'San Juan' 'Tierra del Fuego' 'Otro país']\n",
      "\n",
      "La columna tipo_de_parto_id tiene 3 valores distintos\n",
      "Los valores son: \n",
      "[1 2 9]\n",
      "\n",
      "La columna tipo_de_parto_nombre tiene 3 valores distintos\n",
      "Los valores son: \n",
      "['Simple' 'Múltiple' 'Sin especificar']\n",
      "\n",
      "La columna sexo tiene 4 valores distintos\n",
      "Los valores son: \n",
      "[2 1 9 3]\n",
      "\n",
      "La columna sexo_nombre tiene 4 valores distintos\n",
      "Los valores son: \n",
      "['Mujer' 'Varón' 'Sin espeficar' 'Indeterminado']\n",
      "\n",
      "La columna edad_de_la_madre_grupos_id tiene 9 valores distintos\n",
      "Los valores son: \n",
      "[4 7 5 6 3 2 9 8 1]\n",
      "\n",
      "La columna edad_de_la_madre_grupos_nombre tiene 9 valores distintos\n",
      "Los valores son: \n",
      "['25 a 29' '40 a 44' '30 a 34' '35 a 39' '20 a 24' '15 a 19'\n",
      " 'Sin especificar' 'De 45 y más' 'Menor de 15']\n",
      "\n",
      "La columna semanas_de_gestacion_id tiene 8 valores distintos\n",
      "Los valores son: \n",
      "[5 6 8 7 3 4 1 2]\n",
      "\n",
      "La columna semanas_de_gestacion_nombre tiene 8 valores distintos\n",
      "Los valores son: \n",
      "['32 a 36' '37 a 41' 'Sin especificar' '42 y más' '24 a 27' '28 a 31'\n",
      " 'Menos de 22' '22 a 23']\n",
      "\n",
      "La columna instruccion_de_la_madre_id tiene 8 valores distintos\n",
      "Los valores son: \n",
      "[3 7 5 2 8 4 6 1]\n",
      "\n",
      "La columna instruccion_de_la_madre_nombre tiene 8 valores distintos\n",
      "Los valores son: \n",
      "['Primaria/C. EGB Completa' 'Terciaria/Universitaria Comple'\n",
      " 'Secundaria/Polimodal Completa' 'Primaria/C. EGB Incompleta'\n",
      " 'Sin especificar' 'Secundaria/Polimodal Incomplet'\n",
      " 'Terciaria/Universitaria Incomp' 'Sin instrucción']\n",
      "\n",
      "La columna Intervalos_de_peso_al_nacer_id tiene 9 valores distintos\n",
      "Los valores son: \n",
      "[5 6 4 7 3 8 9 2 1]\n",
      "\n",
      "La columna intervalos_de_peso_al_nacer_nombre tiene 9 valores distintos\n",
      "Los valores son: \n",
      "['2000 a 2499' '2500 a 2999' '1500 a 1999' '3000 a 3499' '1000 a 1499'\n",
      " 'De 3500 y más' 'Sin especificar' '500 a 999' 'Menor de 500']\n",
      "\n"
     ]
    }
   ],
   "source": [
    "#Vamos a ver los valores que tenemos en cada columna\n",
    "\n",
    "for i in range(14):\n",
    "        print('La columna '+ str(columns_nacidos[i])+' tiene '+ str(len(nacidos[columns_nacidos[i]].unique()))+' valores distintos')\n",
    "        print('Los valores son: \\n'+str(nacidos[columns_nacidos[i]].unique())+'\\n')"
   ]
  },
  {
   "cell_type": "markdown",
   "metadata": {},
   "source": [
    "##### Vemos que varias columnas indican 'Sin especificar' es decir no tienen información.  Debemos ver que porcentaje de cada una tiene esta situación para poder tomar una decision."
   ]
  },
  {
   "cell_type": "code",
   "execution_count": 126,
   "metadata": {},
   "outputs": [],
   "source": [
    "#Veo que existen algunas columnas que tienen mal escrito \"Sin especificar\". Hago el reemplazo\n",
    "nacidos['sexo_nombre']= nacidos['sexo_nombre'].str.replace('Sin espeficar','Sin especificar')\n",
    "nacidos['jurisdiccion_de_residencia_nombre']= nacidos['jurisdiccion_de_residencia_nombre'].str.replace('Lugar no especificado','Sin especificar')"
   ]
  },
  {
   "cell_type": "code",
   "execution_count": 127,
   "metadata": {},
   "outputs": [],
   "source": [
    "# Creo un Dataframe donde guardaré el % de valores sin especificar para cada columna\n",
    "sin_esp = pd.DataFrame(columns = ['Column_name','% valores Sin especificar'])"
   ]
  },
  {
   "cell_type": "code",
   "execution_count": 128,
   "metadata": {},
   "outputs": [
    {
     "data": {
      "text/html": [
       "<div>\n",
       "<style scoped>\n",
       "    .dataframe tbody tr th:only-of-type {\n",
       "        vertical-align: middle;\n",
       "    }\n",
       "\n",
       "    .dataframe tbody tr th {\n",
       "        vertical-align: top;\n",
       "    }\n",
       "\n",
       "    .dataframe thead th {\n",
       "        text-align: right;\n",
       "    }\n",
       "</style>\n",
       "<table border=\"1\" class=\"dataframe\">\n",
       "  <thead>\n",
       "    <tr style=\"text-align: right;\">\n",
       "      <th></th>\n",
       "      <th>Column_name</th>\n",
       "      <th>% valores Sin especificar</th>\n",
       "    </tr>\n",
       "  </thead>\n",
       "  <tbody>\n",
       "    <tr>\n",
       "      <th>0</th>\n",
       "      <td>jurisdiccion_de_residencia_nombre</td>\n",
       "      <td>2.15</td>\n",
       "    </tr>\n",
       "    <tr>\n",
       "      <th>1</th>\n",
       "      <td>tipo_de_parto_nombre</td>\n",
       "      <td>0.66</td>\n",
       "    </tr>\n",
       "    <tr>\n",
       "      <th>2</th>\n",
       "      <td>sexo_nombre</td>\n",
       "      <td>2.19</td>\n",
       "    </tr>\n",
       "    <tr>\n",
       "      <th>3</th>\n",
       "      <td>edad_de_la_madre_grupos_nombre</td>\n",
       "      <td>2.51</td>\n",
       "    </tr>\n",
       "    <tr>\n",
       "      <th>4</th>\n",
       "      <td>semanas_de_gestacion_nombre</td>\n",
       "      <td>6.01</td>\n",
       "    </tr>\n",
       "    <tr>\n",
       "      <th>5</th>\n",
       "      <td>instruccion_de_la_madre_nombre</td>\n",
       "      <td>8.86</td>\n",
       "    </tr>\n",
       "    <tr>\n",
       "      <th>6</th>\n",
       "      <td>intervalos_de_peso_al_nacer_nombre</td>\n",
       "      <td>3.80</td>\n",
       "    </tr>\n",
       "  </tbody>\n",
       "</table>\n",
       "</div>"
      ],
      "text/plain": [
       "                          Column_name  % valores Sin especificar\n",
       "0   jurisdiccion_de_residencia_nombre                       2.15\n",
       "1                tipo_de_parto_nombre                       0.66\n",
       "2                         sexo_nombre                       2.19\n",
       "3      edad_de_la_madre_grupos_nombre                       2.51\n",
       "4         semanas_de_gestacion_nombre                       6.01\n",
       "5      instruccion_de_la_madre_nombre                       8.86\n",
       "6  intervalos_de_peso_al_nacer_nombre                       3.80"
      ]
     },
     "execution_count": 128,
     "metadata": {},
     "output_type": "execute_result"
    }
   ],
   "source": [
    "#Verificamos que porcentaje de valores sin especificar tenemos para cada columna\n",
    "for t in [1,3,5,7,9,11,13]:\n",
    "    se = nacidos.loc[nacidos[columns_nacidos[t]] == 'Sin especificar']\n",
    "    cant = round(((se.shape[0]/nacidos.shape[0])*100),2)\n",
    "    new_row = {'Column_name':columns_nacidos[t],'% valores Sin especificar': cant}\n",
    "    sin_esp = sin_esp.append(new_row,ignore_index = True)\n",
    "sin_esp"
   ]
  },
  {
   "cell_type": "markdown",
   "metadata": {},
   "source": [
    "#### Veamos cuántos nacimientos tenemos registrados por provincia"
   ]
  },
  {
   "cell_type": "code",
   "execution_count": 135,
   "metadata": {},
   "outputs": [
    {
     "data": {
      "text/plain": [
       "array(['Formosa', 'Ciudad Aut. de Buenos Aires', 'Buenos Aires',\n",
       "       'Santa Fe', 'San Luis', 'Sin especificar', 'Salta', 'Neuquén',\n",
       "       'Río Negro', 'Misiones', 'Tucumán', 'Santa Cruz', 'Catamarca',\n",
       "       'Santiago del Estero', 'Chaco', 'La Rioja', 'La Pampa', 'Jujuy',\n",
       "       'Entre Ríos', 'Mendoza', 'Chubut', 'Corrientes', 'Córdoba',\n",
       "       'San Juan', 'Tierra del Fuego', 'Otro país'], dtype=object)"
      ]
     },
     "execution_count": 135,
     "metadata": {},
     "output_type": "execute_result"
    }
   ],
   "source": [
    "provincias = nacidos['jurisdiccion_de_residencia_nombre'].unique()\n",
    "provincias"
   ]
  },
  {
   "cell_type": "code",
   "execution_count": 140,
   "metadata": {},
   "outputs": [
    {
     "data": {
      "text/html": [
       "<div>\n",
       "<style scoped>\n",
       "    .dataframe tbody tr th:only-of-type {\n",
       "        vertical-align: middle;\n",
       "    }\n",
       "\n",
       "    .dataframe tbody tr th {\n",
       "        vertical-align: top;\n",
       "    }\n",
       "\n",
       "    .dataframe thead th {\n",
       "        text-align: right;\n",
       "    }\n",
       "</style>\n",
       "<table border=\"1\" class=\"dataframe\">\n",
       "  <thead>\n",
       "    <tr style=\"text-align: right;\">\n",
       "      <th></th>\n",
       "      <th>cantidad_nacimientos</th>\n",
       "    </tr>\n",
       "    <tr>\n",
       "      <th>jurisdiccion_de_residencia_nombre</th>\n",
       "      <th></th>\n",
       "    </tr>\n",
       "  </thead>\n",
       "  <tbody>\n",
       "    <tr>\n",
       "      <th>Buenos Aires</th>\n",
       "      <td>251377</td>\n",
       "    </tr>\n",
       "    <tr>\n",
       "      <th>Catamarca</th>\n",
       "      <td>6696</td>\n",
       "    </tr>\n",
       "    <tr>\n",
       "      <th>Chaco</th>\n",
       "      <td>24783</td>\n",
       "    </tr>\n",
       "    <tr>\n",
       "      <th>Chubut</th>\n",
       "      <td>8539</td>\n",
       "    </tr>\n",
       "    <tr>\n",
       "      <th>Ciudad Aut. de Buenos Aires</th>\n",
       "      <td>35467</td>\n",
       "    </tr>\n",
       "    <tr>\n",
       "      <th>Corrientes</th>\n",
       "      <td>19855</td>\n",
       "    </tr>\n",
       "    <tr>\n",
       "      <th>Córdoba</th>\n",
       "      <td>53569</td>\n",
       "    </tr>\n",
       "    <tr>\n",
       "      <th>Entre Ríos</th>\n",
       "      <td>21283</td>\n",
       "    </tr>\n",
       "    <tr>\n",
       "      <th>Formosa</th>\n",
       "      <td>11809</td>\n",
       "    </tr>\n",
       "    <tr>\n",
       "      <th>Jujuy</th>\n",
       "      <td>11807</td>\n",
       "    </tr>\n",
       "    <tr>\n",
       "      <th>La Pampa</th>\n",
       "      <td>4773</td>\n",
       "    </tr>\n",
       "    <tr>\n",
       "      <th>La Rioja</th>\n",
       "      <td>5673</td>\n",
       "    </tr>\n",
       "    <tr>\n",
       "      <th>Mendoza</th>\n",
       "      <td>30089</td>\n",
       "    </tr>\n",
       "    <tr>\n",
       "      <th>Misiones</th>\n",
       "      <td>24858</td>\n",
       "    </tr>\n",
       "    <tr>\n",
       "      <th>Neuquén</th>\n",
       "      <td>10122</td>\n",
       "    </tr>\n",
       "    <tr>\n",
       "      <th>Otro país</th>\n",
       "      <td>192</td>\n",
       "    </tr>\n",
       "    <tr>\n",
       "      <th>Río Negro</th>\n",
       "      <td>10671</td>\n",
       "    </tr>\n",
       "    <tr>\n",
       "      <th>Salta</th>\n",
       "      <td>25206</td>\n",
       "    </tr>\n",
       "    <tr>\n",
       "      <th>San Juan</th>\n",
       "      <td>13498</td>\n",
       "    </tr>\n",
       "    <tr>\n",
       "      <th>San Luis</th>\n",
       "      <td>7050</td>\n",
       "    </tr>\n",
       "    <tr>\n",
       "      <th>Santa Cruz</th>\n",
       "      <td>5111</td>\n",
       "    </tr>\n",
       "    <tr>\n",
       "      <th>Santa Fe</th>\n",
       "      <td>51413</td>\n",
       "    </tr>\n",
       "    <tr>\n",
       "      <th>Santiago del Estero</th>\n",
       "      <td>18074</td>\n",
       "    </tr>\n",
       "    <tr>\n",
       "      <th>Sin especificar</th>\n",
       "      <td>2876</td>\n",
       "    </tr>\n",
       "    <tr>\n",
       "      <th>Tierra del Fuego</th>\n",
       "      <td>2688</td>\n",
       "    </tr>\n",
       "    <tr>\n",
       "      <th>Tucumán</th>\n",
       "      <td>27915</td>\n",
       "    </tr>\n",
       "  </tbody>\n",
       "</table>\n",
       "</div>"
      ],
      "text/plain": [
       "                                   cantidad_nacimientos\n",
       "jurisdiccion_de_residencia_nombre                      \n",
       "Buenos Aires                                     251377\n",
       "Catamarca                                          6696\n",
       "Chaco                                             24783\n",
       "Chubut                                             8539\n",
       "Ciudad Aut. de Buenos Aires                       35467\n",
       "Corrientes                                        19855\n",
       "Córdoba                                           53569\n",
       "Entre Ríos                                        21283\n",
       "Formosa                                           11809\n",
       "Jujuy                                             11807\n",
       "La Pampa                                           4773\n",
       "La Rioja                                           5673\n",
       "Mendoza                                           30089\n",
       "Misiones                                          24858\n",
       "Neuquén                                           10122\n",
       "Otro país                                           192\n",
       "Río Negro                                         10671\n",
       "Salta                                             25206\n",
       "San Juan                                          13498\n",
       "San Luis                                           7050\n",
       "Santa Cruz                                         5111\n",
       "Santa Fe                                          51413\n",
       "Santiago del Estero                               18074\n",
       "Sin especificar                                    2876\n",
       "Tierra del Fuego                                   2688\n",
       "Tucumán                                           27915"
      ]
     },
     "execution_count": 140,
     "metadata": {},
     "output_type": "execute_result"
    }
   ],
   "source": [
    "# hacemos la tabla pivote para \"simplificar o resumir\" los datos provenientes de \"molinetes_c\" \n",
    "Total_nac_2018 = pd.pivot_table(nacidos, values = 'cantidad_nacimientos', index = 'jurisdiccion_de_residencia_nombre',fill_value=0, aggfunc = np.sum)\n",
    "Total_nac_2018"
   ]
  },
  {
   "cell_type": "code",
   "execution_count": 146,
   "metadata": {},
   "outputs": [
    {
     "data": {
      "text/plain": [
       "<matplotlib.axes._subplots.AxesSubplot at 0xb8a6ee0>"
      ]
     },
     "execution_count": 146,
     "metadata": {},
     "output_type": "execute_result"
    },
    {
     "data": {
      "image/png": "[encoded data removed]",
      "text/plain": [
       "<Figure size 432x288 with 1 Axes>"
      ]
     },
     "metadata": {
      "needs_background": "light"
     },
     "output_type": "display_data"
    }
   ],
   "source": [
    "Total_nac_2018.plot(kind='bar')"
   ]
  },
  {
   "cell_type": "code",
   "execution_count": null,
   "metadata": {},
   "outputs": [],
   "source": []
  }
 ],
 "metadata": {
  "kernelspec": {
   "display_name": "Python 3",
   "language": "python",
   "name": "python3"
  },
  "language_info": {
   "codemirror_mode": {
    "name": "ipython",
    "version": 3
   },
   "file_extension": ".py",
   "mimetype": "text/x-python",
   "name": "python",
   "nbconvert_exporter": "python",
   "pygments_lexer": "ipython3",
   "version": "3.8.3"
  }
 },
 "nbformat": 4,
 "nbformat_minor": 4
}
